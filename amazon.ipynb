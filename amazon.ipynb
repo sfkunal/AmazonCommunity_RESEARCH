{
 "cells": [
  {
   "cell_type": "code",
   "execution_count": 1,
   "metadata": {},
   "outputs": [],
   "source": [
    "from itertools import combinations\n",
    "import matplotlib.pyplot as plt\n",
    "import networkx as nx\n",
    "import collections\n",
    "import matplotlib as mpl\n",
    "import math\n",
    "import random\n",
    "from community import community_louvain\n",
    "import matplotlib.cm as cm\n",
    "from collections import Counter\n",
    "\n",
    "RANDOM_SEED = 10"
   ]
  },
  {
   "cell_type": "markdown",
   "metadata": {},
   "source": [
    "## Baseline Data Analysis"
   ]
  },
  {
   "cell_type": "code",
   "execution_count": 2,
   "metadata": {},
   "outputs": [],
   "source": [
    "g = nx.read_edgelist(\"amazondata.txt\",create_using=nx.DiGraph(), nodetype = int)\n",
    "\n",
    "def data_analysis(graph):\n",
    "    largest_scc = max(nx.strongly_connected_components(graph), key=len)\n",
    "    weakly_scc = min(nx.weakly_connected_components(graph), key=len)\n",
    "    print(\"node count: \", graph.number_of_nodes())\n",
    "    print(\"edge count: \",len(graph.edges()))\n",
    "    print(\"nodes in largest scc: \",len(largest_scc))\n",
    "    print(\"edges in largest scc: \",(len(graph.subgraph(largest_scc).edges())))\n",
    "    print(\"nodes in largest wcc: \",len(weakly_scc))\n",
    "    print(\"edges in largest wcc: \",(len(graph.subgraph(weakly_scc).edges())))\n",
    "    print(\"triangles count: \",len(nx.triangles(graph.to_undirected())))\n",
    "    print(\"avg clustering coefficient: \",nx.average_clustering(graph))\n",
    "    print(\"node/edge ratio\", graph.number_of_nodes()/len(graph.edges()))\n",
    "    \n"
   ]
  },
  {
   "cell_type": "code",
   "execution_count": 3,
   "metadata": {},
   "outputs": [
    {
     "name": "stdout",
     "output_type": "stream",
     "text": [
      "node count:  410236\n",
      "edge count:  3356824\n",
      "nodes in largest scc:  390304\n",
      "edges in largest scc:  3255816\n",
      "nodes in largest wcc:  410236\n",
      "edges in largest wcc:  3356824\n",
      "triangles count:  410236\n",
      "avg clustering coefficient:  0.3543680740821862\n",
      "node/edge ratio 0.12220956475525675\n"
     ]
    }
   ],
   "source": [
    "data_analysis(g)"
   ]
  },
  {
   "cell_type": "markdown",
   "metadata": {},
   "source": [
    "## Node Datum Manipulation"
   ]
  },
  {
   "cell_type": "code",
   "execution_count": 4,
   "metadata": {},
   "outputs": [
    {
     "name": "stdout",
     "output_type": "stream",
     "text": [
      "396803\n"
     ]
    }
   ],
   "source": [
    "# dictionary with value left_val and key of counts\n",
    "f = open(\"amazondata.txt\", \"r\")\n",
    "left_counts = {}\n",
    "for x in f:\n",
    "    if(x[0] == '#'):\n",
    "        continue\n",
    "    key = int(x.split('\\t')[0])\n",
    "    if(key in left_counts):\n",
    "        left_counts[key] += 1\n",
    "    else:\n",
    "        left_counts[key] = 1\n",
    "print(len(left_counts))"
   ]
  },
  {
   "cell_type": "code",
   "execution_count": 5,
   "metadata": {},
   "outputs": [
    {
     "name": "stdout",
     "output_type": "stream",
     "text": [
      "0.3007336134051406\n"
     ]
    }
   ],
   "source": [
    "# ratio of values less than 10 in leftcounts\n",
    "c = 0\n",
    "for key,value in left_counts.items():\n",
    "    if value < 10:\n",
    "        c += 1\n",
    "print(c/len(left_counts))"
   ]
  },
  {
   "cell_type": "code",
   "execution_count": 6,
   "metadata": {},
   "outputs": [
    {
     "name": "stdout",
     "output_type": "stream",
     "text": [
      "410235\n"
     ]
    }
   ],
   "source": [
    "# dictionary with value right_val and key of counts\n",
    "f = open(\"amazondata.txt\", \"r\")\n",
    "right_counts = {}\n",
    "\n",
    "for x in f:\n",
    "    if(x[0] == '#'):\n",
    "        continue\n",
    "    key = int(x.split('\\t')[1].strip())\n",
    "    if(key in right_counts):\n",
    "        right_counts[key] += 1\n",
    "    else:\n",
    "        right_counts[key] = 1   \n",
    "print(len(right_counts))"
   ]
  },
  {
   "cell_type": "code",
   "execution_count": 7,
   "metadata": {},
   "outputs": [
    {
     "name": "stdout",
     "output_type": "stream",
     "text": [
      "{'bucketA': 302415, 'bucketB': 77140, 'bucketC': 17554, 'bucketD': 5816, 'bucketE': 2654, 'bucketF': 4656}\n"
     ]
    }
   ],
   "source": [
    "# organizes right_counts into buckets\n",
    "buckets = {'bucketA':0, 'bucketB':0, 'bucketC':0, 'bucketD':0, 'bucketE':0, 'bucketF':0}\n",
    "\n",
    "for key,value in right_counts.items():\n",
    "    if(value < 10):\n",
    "        buckets['bucketA'] += 1\n",
    "    elif(value < 20):\n",
    "        buckets['bucketB'] += 1\n",
    "    elif(value < 30):\n",
    "        buckets['bucketC'] += 1\n",
    "    elif(value < 40):\n",
    "        buckets['bucketD'] += 1\n",
    "    elif(value < 50):\n",
    "        buckets['bucketE'] += 1\n",
    "    else:\n",
    "        buckets['bucketF'] += 1\n",
    "print(buckets)"
   ]
  },
  {
   "cell_type": "code",
   "execution_count": 8,
   "metadata": {},
   "outputs": [],
   "source": [
    "f = open(\"amazondata.txt\", \"r\")\n",
    "counts = {}\n",
    "\n",
    "for x in f:\n",
    "    if(x[0] == '#'):\n",
    "        continue\n",
    "    right_key = int(x.split('\\t')[1].strip())\n",
    "    left_key = int(x.split('\\t')[0])\n",
    "    if(right_key in counts):\n",
    "        counts[right_key] += 1\n",
    "    else:\n",
    "        counts[right_key] = 1  \n",
    "    if(left_key in counts):\n",
    "        counts[left_key] += 1\n",
    "    else:\n",
    "        counts[left_key] = 1  "
   ]
  },
  {
   "cell_type": "code",
   "execution_count": 9,
   "metadata": {},
   "outputs": [
    {
     "name": "stdout",
     "output_type": "stream",
     "text": [
      "{'1': 11146, '2': 14935, '3': 15709, '4': 15091, '5': 13945, '6': 12599, '7': 11795, '8': 11285, '9': 12827, '10': 277471}\n"
     ]
    }
   ],
   "source": [
    "left_buckets = {'1':0, '2':0, '3':0, '4':0, '5':0, '6':0, '7':0, '8':0, '9':0, '10':0}\n",
    "\n",
    "for key,value in left_counts.items():\n",
    "\n",
    "    if(value == 1):\n",
    "        left_buckets['1'] += 1\n",
    "    elif(value == 2):\n",
    "        left_buckets['2'] += 1\n",
    "    elif(value == 3):\n",
    "        left_buckets['3'] += 1\n",
    "    elif(value == 4):\n",
    "        left_buckets['4'] += 1\n",
    "    elif(value == 5):\n",
    "        left_buckets['5'] += 1\n",
    "    elif(value == 6):\n",
    "        left_buckets['6'] += 1\n",
    "    elif(value == 7):\n",
    "        left_buckets['7'] += 1\n",
    "    elif(value == 8):\n",
    "        left_buckets['8'] += 1\n",
    "    elif(value == 9):\n",
    "        left_buckets['9'] += 1\n",
    "    else:\n",
    "        left_buckets['10'] += 1\n",
    "print(left_buckets)"
   ]
  },
  {
   "cell_type": "code",
   "execution_count": 10,
   "metadata": {},
   "outputs": [
    {
     "data": {
      "image/png": "[encoded data removed]",
      "text/plain": [
       "<Figure size 432x288 with 1 Axes>"
      ]
     },
     "metadata": {
      "needs_background": "light"
     },
     "output_type": "display_data"
    }
   ],
   "source": [
    "plt.bar(list(left_buckets.keys()), left_buckets.values(), color='g')\n",
    "plt.show()\n"
   ]
  },
  {
   "cell_type": "code",
   "execution_count": 11,
   "metadata": {},
   "outputs": [
    {
     "data": {
      "image/png": "[encoded data removed]",
      "text/plain": [
       "<Figure size 720x432 with 2 Axes>"
      ]
     },
     "metadata": {
      "needs_background": "light"
     },
     "output_type": "display_data"
    }
   ],
   "source": [
    "FIGURE_SIZE = (10,6) # (width, height)\n",
    "f, (ax, ax2) = plt.subplots(2, 1, sharex=True, figsize=FIGURE_SIZE)\n",
    "ax.bar(list(left_buckets.keys()), left_buckets.values(), color='black')\n",
    "ax2.bar(list(left_buckets.keys()), left_buckets.values(), color='black')\n",
    "# ax2.hist(all_counts_31mer_one_WES, num_bins, facecolor='red', alpha=0.75, rwidth=0.80, label='Whole Exome')\n",
    "ax.set_ylim(250000, 300000)\n",
    "ax2.set_ylim(0, 20000)\n",
    "ax.spines['bottom'].set_visible(False)\n",
    "ax2.spines['top'].set_visible(False)\n",
    "ax.xaxis.tick_top()\n",
    "ax.tick_params(labeltop='off')  # don't put tick labels at the top\n",
    "ax2.xaxis.tick_bottom()\n",
    "d = .015  # how big to make the diagonal lines in axes coordinates\n",
    "# arguments to pass to plot, just so we don't keep repeating them\n",
    "kwargs = dict(transform=ax.transAxes, color='k', clip_on=False)\n",
    "ax.plot((-d, +d), (-d, +d), **kwargs)        # top-left diagonal\n",
    "ax.plot((1 - d, 1 + d), (-d, +d), **kwargs)  # top-right diagonal\n",
    "\n",
    "kwargs.update(transform=ax2.transAxes)  # switch to the bottom axes\n",
    "ax2.plot((-d, +d), (1 - d, 1 + d), **kwargs)  # bottom-left diagonal\n",
    "ax2.plot((1 - d, 1 + d), (1 - d, 1 + d), **kwargs)  # bottom-right diagonal\n",
    "\n",
    "ax.yaxis.set_major_formatter(mpl.ticker.StrMethodFormatter('{x:,.0f}'))\n",
    "ax2.yaxis.set_major_formatter(mpl.ticker.StrMethodFormatter('{x:,.0f}'))\n",
    "plt.xlabel('counts')\n",
    "plt.ylabel('connections')\n",
    "plt.tight_layout()\n",
    "# ax.legend(loc='upper right', prop={'size': 14})\n",
    "# plt.savefig('Dark_Regions_31mer_Both')"
   ]
  },
  {
   "cell_type": "code",
   "execution_count": 12,
   "metadata": {},
   "outputs": [],
   "source": [
    "g = nx.read_edgelist(\"amazondata.txt\",create_using=nx.DiGraph(), nodetype = int)"
   ]
  },
  {
   "cell_type": "markdown",
   "metadata": {},
   "source": [
    "Task: Create representative subgraph from your original graph. Write a method create_valid_subgraph() that takes in a networkx graph object as input and returns a list of nodes to create a subgraph from. To do so, first select a random node from your original graph. After adding this node to your subgraph node list, add all of its neighbors to the subgraph node list. Continue branching out by adding the neighbors of these neighbors to this subgraph node list. Branch out a total of 5 times to get your final list of subgraph nodes."
   ]
  },
  {
   "cell_type": "code",
   "execution_count": 13,
   "metadata": {},
   "outputs": [
    {
     "name": "stdout",
     "output_type": "stream",
     "text": [
      "200009\n"
     ]
    }
   ],
   "source": [
    "def create_valid_subgraph(nxgraph):\n",
    "    random.seed(RANDOM_SEED)\n",
    "    subgraph_list = []\n",
    "    queue = []\n",
    "    list_of_nodes = list(nxgraph.nodes())\n",
    "    n1 = random.choice(list_of_nodes)\n",
    "    queue.append(n1)\n",
    "    while True:\n",
    "        first_element = queue.pop(0)\n",
    "        subgraph_list.extend(nxgraph.neighbors(first_element))\n",
    "        queue.extend(nxgraph.neighbors(first_element))\n",
    "        if(len(subgraph_list) > 200000):\n",
    "            break\n",
    "    return subgraph_list\n",
    "valid_graph = create_valid_subgraph(g);\n",
    "print(len(valid_graph))"
   ]
  },
  {
   "cell_type": "code",
   "execution_count": 14,
   "metadata": {},
   "outputs": [
    {
     "name": "stdout",
     "output_type": "stream",
     "text": [
      "node count:  5658\n",
      "edge count:  37889\n",
      "nodes in largest scc:  5346\n",
      "edges in largest scc:  36320\n",
      "nodes in largest wcc:  5658\n",
      "edges in largest wcc:  37889\n",
      "triangles count:  5658\n",
      "avg clustering coefficient:  0.4347299811476863\n",
      "node/edge ratio 0.14933094037847397\n"
     ]
    }
   ],
   "source": [
    "subgraph = g.subgraph(valid_graph)\n",
    "data_analysis(subgraph)"
   ]
  },
  {
   "cell_type": "code",
   "execution_count": 15,
   "metadata": {},
   "outputs": [
    {
     "name": "stdout",
     "output_type": "stream",
     "text": [
      "[98324, 229401, 229402, 32806, 98373, 163914, 32903, 32904, 32905, 32906, 32909, 32910, 32911, 32913, 262290, 32915, 32916, 164027, 327868, 327869, 196822, 131292, 131293, 131313, 131319, 164101, 164102, 131341, 65813, 65814, 131369, 131370, 98640, 98644, 295258, 131420, 131421, 131422, 131423, 65886, 131425, 131426, 131427, 65887, 98664, 197000, 33165, 229782, 229783, 33181, 262566, 65962, 65963, 65964, 65965, 65966, 65967, 65969, 65970, 98748, 98749, 98750, 98751, 98752, 98753, 98754, 33229, 33230, 98772, 98773, 98774, 131548, 131549, 197101, 33303, 98869, 229945, 229946, 98878, 197184, 197185, 33349, 295495, 593, 594, 595, 131709, 164481, 98948, 98964, 98965, 98967, 98968, 131737, 230045, 262836, 197313, 262894, 262905, 164611, 262917, 262918, 262919, 262920, 197389, 262925, 66330, 197410, 197411, 164645, 164646, 164647, 230184, 197414, 197415, 33618, 33619, 33620, 33621, 33622, 230231, 230232, 230233, 230234, 33623, 131945, 328569, 230276, 230277, 164744, 99239, 99272, 99274, 972, 99276, 974, 975, 99277, 977, 33746, 66522, 197625, 164860, 164861, 132166, 296013, 99406, 132176, 230492, 66669, 66670, 66671, 66677, 66678, 66679, 66680, 66690, 66692, 165013, 197797, 197799, 197801, 66740, 66741, 66742, 99545, 99546, 99547, 99548, 263390, 99550, 99581, 230675, 296228, 165157, 165158, 165159, 165160, 165161, 34090, 165162, 34091, 263465, 132389, 132391, 132403, 132404, 132405, 132406, 132407, 263484, 296276, 66902, 66915, 197989, 132478, 198041, 198043, 66972, 66973, 66974, 66975, 66976, 66977, 165283, 165287, 66985, 66986, 66987, 66988, 66989, 66990, 132535, 132538, 132539, 132544, 329154, 329155, 132557, 132558, 132600, 296454, 296455, 296456, 296457, 296458, 198165, 132665, 132667, 132688, 67157, 67183, 99978, 165537, 165538, 132773, 198319, 329403, 329404, 329405, 329406, 263890, 132819, 165606, 165607, 165608, 165609, 132860, 132861, 329472, 67330, 34592, 34593, 34594, 34595, 263976, 263978, 67384, 165695, 67413, 100201, 133049, 198587, 296892, 198600, 198601, 198602, 198603, 198604, 67556, 67557, 67558, 67559, 165878, 165879, 165880, 165881, 133130, 198703, 198704, 198705, 198706, 198707, 100403, 165943, 2103, 2104, 2105, 2106, 198730, 34900, 198747, 198749, 198752, 198753, 198754, 198755, 264290, 67707, 67708, 67712, 67713, 67714, 67715, 67716, 67717, 67718, 67719, 67720, 67721, 34959, 67729, 67730, 67731, 67732, 67733, 67734, 231575, 67735, 231581, 198816, 231584, 100517, 100519, 100520, 133301, 133302, 329932, 35038, 35039, 133355, 133356, 133357, 133358, 133359, 133360, 133361, 264436, 264437, 264438, 133377, 133378, 133379, 133380, 264463, 264464, 133403, 166172, 166173, 166174, 166175, 133413, 133414, 67883, 297264, 67892, 264517, 264518, 264519, 264520, 264521, 35165, 231778, 231779, 231780, 264562, 264636, 199105, 231885, 100820, 100823, 297435, 35296, 297445, 35325, 35327, 330243, 199194, 2611, 2612, 297528, 199240, 68183, 166490, 166496, 68192, 68196, 68197, 35436, 297599, 166534, 166535, 166536, 166537, 166538, 68234, 68236, 166568, 166569, 166570, 166571, 166572, 35541, 35542, 35543, 133848, 35544, 35546, 72194, 68316, 68314, 68317, 166630, 133871, 101122, 101123, 101124, 101125, 101126, 35591, 101128, 35592, 35594, 101129, 101127, 35593, 199440, 199441, 199442, 35608, 199451, 101149, 35623, 68400, 35640, 101186, 101187, 101188, 101189, 101190, 101194, 166732, 166733, 166734, 101206, 101207, 35676, 166750, 199531, 68473, 199549, 35715, 35717, 199602, 134074, 134075, 265158, 265159, 101330, 265170, 101334, 297949, 134121, 101354, 330756, 134151, 68627, 134166, 134168, 101405, 199715, 35897, 101443, 101444, 101445, 101446, 101447, 101449, 265318, 265319, 199786, 68728, 330873, 330874, 35966, 35967, 35968, 35969, 35970, 35971, 35972, 68741, 35973, 35975, 68742, 298132, 298133, 265384, 167095, 167096, 167097, 167098, 167099, 167100, 134342, 298189, 232658, 232659, 232660, 167138, 167139, 134383, 330997, 134394, 134395, 134396, 68884, 68886, 232728, 265497, 232760, 134460, 265583, 3449, 101761, 69075, 69076, 69077, 69078, 69079, 69080, 36326, 134633, 167403, 232940, 167410, 167411, 167412, 167414, 200202, 200203, 134685, 36400, 233010, 200243, 200244, 134710, 134711, 134712, 134713, 134714, 200246, 69182, 298562, 331332, 36434, 69208, 364126, 200290, 101987, 101988, 101989, 101990, 36453, 167533, 167534, 167535, 167536, 200313, 102024, 102025, 102026, 102027, 3747, 3751, 102067, 102068, 102069, 102070, 102071, 102072, 102073, 102074, 200382, 200383, 102083, 265931, 102094, 102095, 102096, 102097, 102098, 102099, 102100, 102101, 298726, 298727, 102147, 102148, 102149, 102151, 102153, 102154, 102155, 102156, 102157, 102158, 102159, 102160, 331536, 102161, 134924, 102170, 102171, 266026, 134986, 134987, 69454, 69455, 69456, 69457, 69458, 167765, 167766, 331618, 135023, 135024, 135025, 135026, 135027, 135028, 233345, 135047, 200600, 69534, 167852, 167853, 167854, 102338, 200659, 36823, 298978, 364514, 167913, 167916, 135149, 135150, 167918, 135151, 135152, 135153, 36845, 167917, 36876, 167993, 167994, 102458, 102457, 69709, 102478, 102479, 102480, 168029, 168030, 168040, 331896, 102520, 299136, 102528, 168068, 168069, 168070, 168071, 168072, 168073, 37029, 233638, 200880, 168132, 168133, 168134, 37063, 299206, 37064, 102608, 102609, 69842, 69843, 69844, 102613, 200917, 299227, 200926, 233706, 135417, 69900, 69903, 135440, 135441, 200978, 135442, 135443, 168213, 233750, 135444, 168222, 266527, 266526, 266528, 102692, 102693, 233769, 69930, 37168, 168241, 135474, 135475, 135476, 135477, 135478, 135479, 168247, 37172, 37173, 168267, 168268, 168271, 299345, 4455, 364909, 233866, 233867, 233869, 70064, 70065, 70066, 70067, 168370, 70069, 70068, 70070, 70071, 37305, 266701, 70103, 70109, 266719, 266720, 201185, 201186, 37349, 37350, 37351, 37352, 37353, 37354, 37355, 37356, 102900, 102901, 102902, 102903, 102904, 102905, 168442, 102907, 102906, 102908, 168441, 332289, 70146, 37382, 37383, 37384, 37385, 37386, 37387, 37388, 37389, 70172, 37422, 37423, 135726, 37425, 135730, 135728, 37424, 70225, 266849, 103018, 37483, 37485, 37486, 37487, 37488, 201331, 135805, 135813, 70282, 201361, 299668, 299670, 135842, 266930, 70323, 70324, 70325, 266966, 332505, 234215, 234216, 135913, 234217, 234218, 234219, 135912, 135914, 266986, 37616, 168695, 168696, 168697, 168698, 267004, 267005, 267006, 267007, 37644, 168738, 135990, 135991, 37693, 136018, 168806, 234370, 234371, 234372, 70546, 234391, 103322, 136121, 136122, 136123, 234428, 136125, 234429, 234430, 234431, 234432, 168903, 168904, 168906, 136143, 70619, 70620, 70621, 70622, 70623, 70624, 70625, 103399, 168950, 234493, 168959, 168960, 70673, 70674, 234513, 70675, 168981, 70676, 70712, 37962, 37964, 169041, 136291, 136293, 136294, 300139, 300140, 300141, 267374, 234607, 267375, 300142, 70778, 169093, 169094, 169096, 201865, 234639, 136354, 136360, 103593, 169144, 300216, 169153, 267462, 136399, 70867, 70868, 70869, 70870, 267489, 267490, 201958, 169200, 169201, 103666, 103667, 169204, 103668, 103669, 201979, 70919, 70920, 70921, 38166, 38170, 38176, 38177, 234785, 38178, 38179, 136491, 136492, 169292, 169293, 169294, 169295, 136528, 136529, 169296, 234840, 234841, 38246, 38247, 103787, 136558, 234873, 267644, 267645, 234892, 234893, 234894, 71058, 71059, 71060, 234903, 71064, 136618, 103873, 103874, 103875, 5614, 5615, 300528, 5616, 234995, 136732, 103966, 103968, 202292, 136782, 38491, 38493, 38494, 202355, 169595, 104072, 104073, 104074, 104085, 202408, 202409, 202410, 136889, 136890, 169667, 71373, 71375, 267985, 169686, 169687, 169688, 169689, 169690, 169691, 169692, 169693, 169694, 169695, 5858, 71395, 71394, 71396, 71397, 136933, 169719, 268034, 268035, 268036, 268037, 136978, 235282, 38687, 38688, 5936, 235327, 71493, 71494, 202568, 202570, 202572, 104270, 235348, 235349, 235350, 38758, 38759, 169842, 169843, 137075, 137076, 137077, 137078, 137079, 137080, 202618, 202619, 137081, 71543, 202617, 71566, 71567, 71568, 71569, 71570, 202644, 71585, 71586, 71587, 71588, 169893, 71589, 104358, 71595, 300974, 169909, 169910, 169911, 169912, 169913, 169914, 268217, 137147, 137148, 104384, 38857, 137163, 104407, 104408, 235482, 71652, 71653, 71654, 235495, 71655, 71657, 71656, 71659, 301043, 235517, 202749, 169987, 6155, 268319, 268320, 170024, 170025, 6187, 6191, 6197, 38981, 71750, 71751, 38982, 235589, 235596, 39022, 39023, 39024, 39025, 39026, 202863, 202864, 104587, 71822, 71823, 202899, 71832, 71833, 235677, 235678, 235692, 202932, 334013, 71879, 71880, 71881, 71882, 71886, 71892, 71893, 202971, 202972, 71901, 170204, 170205, 170206, 170207, 170208, 170209, 170210, 170219, 39156, 39157, 39158, 268553, 268554, 268555, 71948, 104718, 235793, 39186, 235794, 235796, 235795, 203036, 235842, 137544, 104793, 104796, 39274, 39305, 268689, 170388, 137671, 137672, 235989, 334334, 39424, 72193, 236033, 72195, 236034, 236035, 301574, 236036, 236037, 236038, 236039, 236040, 334347, 72197, 39439, 72210, 203282, 104979, 203311, 39480, 39481, 39482, 39483, 170556, 39484, 39485, 39486, 170557, 137799, 137800, 137801, 137802, 137803, 268875, 236104, 105046, 170594, 72304, 72305, 72306, 72307, 105080, 105081, 105082, 105083, 105084, 105085, 105086, 105087, 105088, 72330, 72331, 301713, 137874, 137890, 39593, 39618, 39627, 137933, 170708, 170709, 170710, 170711, 72447, 105220, 105221, 105222, 105223, 105224, 138001, 138003, 138004, 138005, 138006, 203544, 170777, 170800, 170816, 170819, 170820, 170821, 170822, 170823, 170827, 170831, 203612, 203613, 203614, 72546, 72547, 138084, 72548, 334723, 334724, 334725, 39812, 138140, 138141, 236461, 236462, 72644, 39904, 170984, 170985, 203763, 203764, 72692, 302070, 302071, 302072, 302073, 302076, 72707, 72708, 72709, 72710, 72711, 302088, 203804, 72743, 171051, 7226, 7237, 7238, 7239, 7241, 7243, 7247, 236636, 236637, 72808, 72834, 72835, 138371, 302213, 367756, 40081, 40082, 40083, 40084, 40085, 40086, 7343, 269489, 7346, 72893, 335038, 335039, 72895, 72897, 72894, 72898, 72900, 72899, 72901, 72896, 72908, 72909, 72910, 72911, 72912, 171228, 269540, 269541, 204009, 269554, 105718, 236817, 204068, 73014, 204091, 204092, 40266, 171351, 236891, 236892, 204128, 138596, 171364, 138597, 138621, 138622, 138623, 138625, 138626, 105862, 236951, 236952, 236953, 171417, 269735, 302545, 302569, 302570, 302571, 73194, 237042, 105971, 105973, 138755, 138756, 138757, 138758, 138759, 138760, 40477, 302624, 138799, 106038, 237111, 106039, 237113, 106040, 106041, 106042, 106043, 138832, 138833, 138835, 138836, 204393, 138870, 138871, 138872, 335485, 7857, 204466, 7859, 138954, 138955, 138956, 138957, 138958, 138959, 138960, 302801, 138962, 138963, 302802, 204501, 138971, 138972, 138973, 138974, 237283, 237284, 171749, 171750, 171751, 171765, 171766, 106240, 139042, 139043, 139044, 139045, 335662, 139075, 139076, 139077, 139079, 106312, 171850, 204622, 204623, 171857, 171858, 106324, 139092, 139095, 139096, 139097, 139098, 139099, 139100, 139110, 237418, 302980, 8071, 8073, 106379, 8076, 106383, 106390, 106391, 139167, 237490, 106429, 270270, 171982, 171983, 171986, 73709, 73710, 73711, 73713, 172021, 270325, 204792, 204803, 73737, 73738, 139277, 139278, 139279, 139280, 139282, 237598, 139295, 237599, 40997, 41001, 204844, 204845, 139332, 139333, 139334, 139335, 139336, 73801, 368708, 73803, 368709, 41037, 368710, 73808, 139371, 139372, 139373, 139377, 8312, 41081, 8313, 8315, 204924, 204925, 204926, 8319, 106619, 139392, 139394, 139395, 106639, 106641, 237728, 237729, 172198, 270523, 41149, 41150, 41151, 41152, 139462, 73945, 106724, 73957, 73958, 73959, 73960, 8426, 237830, 106776, 74021, 205095, 205128, 205130, 205131, 74073, 74075, 74076, 74078, 205154, 8547, 205155, 205156, 139630, 205192, 205193, 205194, 41352, 205232, 41407, 74210, 74212, 270821, 270822, 107016, 41491, 41492, 172578, 107043, 107044, 107045, 172581, 172583, 172582, 74278, 74288, 74292, 107061, 74297, 107080, 107081, 107082, 107083, 107084, 107085, 107086, 107087, 107088, 336467, 139864, 139866, 139867, 139903, 139905, 139906, 139907, 139908, 139909, 139910, 41610, 205451, 41612, 41611, 41613, 41614, 238218, 41627, 107165, 107166, 107167, 107168, 107169, 41643, 172736, 172737, 172738, 172739, 271055, 8934, 8937, 303856, 303857, 303858, 303859, 303860, 8953, 74503, 74504, 74505, 74506, 74507, 74508, 74509, 271119, 271120, 271121, 271135, 9001, 9003, 9004, 107309, 107324, 107325, 107326, 140094, 74572, 41807, 140130, 140131, 140132, 140133, 140134, 140135, 9067, 205676, 140150, 9079, 9081, 140155, 41855, 172940, 172941, 41894, 172968, 74669, 140218, 140219, 271296, 74700, 140243, 205806, 173039, 205807, 107537, 173079, 173083, 205856, 205857, 107589, 107590, 140363, 140364, 140365, 140366, 140367, 205904, 140369, 304210, 271451, 140415, 140416, 74902, 74903, 74904, 205976, 140446, 140447, 140448, 140449, 140466, 107735, 42203, 42205, 42220, 107760, 107761, 107762, 107763, 107764, 107765, 74998, 107766, 206072, 107767, 140542, 140543, 140544, 173317, 271622, 140565, 206109, 238900, 337227, 238949, 238950, 206195, 140660, 42358, 75138, 140676, 173455, 206223, 107925, 107926, 107927, 9625, 107936, 206306, 206307, 206308, 206309, 206310, 239077, 108005, 108006, 108008, 108007, 206335, 140800, 140801, 9746, 75322, 9812, 108135, 239218, 75384, 206482, 206483, 337563, 337564, 337565, 206501, 206502, 206503, 140984, 140985, 140986, 140987, 140988, 108252, 108257, 108259, 108260, 108261, 108262, 173807, 173815, 173820, 173822, 141057, 141058, 141059, 108292, 304901, 304902, 108293, 206601, 108314, 304937, 42824, 141149, 272224, 305013, 75682, 173990, 239545, 108475, 42946, 42949, 108487, 272331, 141269, 141270, 305177, 305180, 43088, 10346, 305269, 43136, 75908, 305291, 75916, 206989, 75917, 207004, 207005, 10410, 43192, 43193, 43194, 43195, 43196, 43197, 43198, 141500, 43200, 43199, 239817, 108748, 174300, 174301, 207092, 174327, 174328, 141574, 141575, 141576, 76047, 76048, 76049, 10517, 10518, 43289, 43290, 43291, 10524, 43292, 43293, 223530, 305455, 305469, 76096, 43337, 43338, 43339, 43340, 43341, 43342, 43343, 43353, 43354, 43358, 43364, 239973, 108907, 108908, 108909, 108910, 108911, 108912, 108913, 207228, 108946, 108947, 108948, 108949, 141719, 272812, 305587, 43450, 43452, 43453, 43454, 174545, 174546, 207319, 207320, 207321, 76248, 132388, 76254, 109030, 109033, 109036, 272883, 272884, 174594, 240138, 141885, 207432, 207438, 207441, 109139, 76376, 240220, 273003, 43692, 305862, 240326, 43733, 43734, 43735, 109272, 43736, 109274, 109275, 109276, 109277, 109278, 109279, 43737, 43738, 43739, 43740, 305899, 10994, 10996, 11000, 76552, 76553, 43796, 109367, 109368, 109369, 142144, 142145, 142146, 240456, 207704, 240484, 240485, 174957, 207740, 142215, 142216, 142217, 142218, 142219, 142220, 142222, 142223, 43919, 174996, 174997, 11159, 142240, 142241, 43947, 76732, 76733, 76734, 76735, 76736, 76737, 76738, 76739, 76740, 175043, 76741, 109511, 109512, 109513, 207811, 207844, 44018, 175109, 175112, 175113, 109602, 142386, 142387, 142388, 142389, 142390, 142391, 76853, 109623, 109642, 109643, 109648, 44118, 76905, 76906, 76907, 76910, 207982, 306305, 44165, 76944, 76945, 76946, 339093, 109725, 44199, 273584, 208052, 175309, 109774, 109775, 109776, 109777, 109778, 273620, 208096, 208097, 208098, 77034, 273661, 273662, 273663, 306452, 77128, 44377, 208227, 109952, 109953, 109954, 11651, 11660, 175511, 175512, 208283, 77212, 77213, 77214, 77215, 142768, 142769, 142770, 142771, 142772, 175542, 208317, 142787, 208330, 110032, 11729, 110033, 110034, 110036, 110037, 110038, 110039, 110035, 339419, 110057, 110058, 110060, 208366, 110075, 175631, 77339, 110112, 77352, 241199, 208440, 110137, 110138, 110139, 110140, 77378, 77379, 77380, 77381, 77382, 77383, 142916, 77398, 77399, 77400, 142961, 44658, 11918, 11920, 110240, 44707, 44714, 274091, 77496, 110272, 143040, 44740, 44741, 44743, 44744, 143058, 44783, 44784, 77559, 77560, 110342, 44809, 44810, 241421, 208657, 175919, 175920, 175921, 175922, 208692, 208693, 208694, 208695, 241484, 208717, 208718, 143189, 44887, 77663, 241506, 143209, 143210, 143211, 143212, 176003, 208778, 143259, 176055, 176060, 176061, 274367, 77775, 143315, 274388, 110603, 274447, 208914, 208921, 176155, 176156, 176157, 176158, 176159, 241691, 143433, 143435, 143443, 307290, 208993, 12392, 209004, 241776, 143481, 12429, 12431, 110738, 110765, 274646, 176345, 209115, 176353, 176364, 209132, 209140, 209141, 209142, 209143, 209144, 209145, 143625, 78106, 241950, 241951, 78118, 78120, 241962, 241963, 143659, 110893, 110894, 110895, 110896, 110897, 110898, 12623, 12624, 209233, 12626, 12627, 209234, 12636, 12637, 12638, 12639, 12640, 12641, 12642, 110948, 110950, 78218, 110993, 209301, 242080, 176560, 143800, 45515, 45516, 45517, 143820, 143822, 143823, 274897, 78298, 78299, 143841, 143842, 143843, 111087, 111088, 176625, 143861, 143864, 143865, 78340, 242186, 45586, 45587, 45588, 45590, 45591, 176662, 176673, 78382, 111167, 111168, 111169, 143972, 143973, 143974, 143975, 209512, 242283, 12921, 111233, 111234, 111235, 111236, 111237, 78469, 111239, 78474, 111244, 111245, 111246, 111247, 111248, 12943, 12945, 12946, 12947, 12948, 176792, 111335, 111337, 111339, 111340, 111348, 111366, 111382, 111383, 111384, 78618, 45866, 111420, 78660, 45893, 45935, 13167, 78714, 111491, 144266, 144274, 144275, 177042, 78742, 78743, 13209, 13210, 78747, 45980, 13213, 45982, 13214, 13216, 209848, 13278, 144355, 144356, 144357, 144359, 242664, 144360, 242665, 144363, 144364, 144367, 144368, 144369, 46095, 46096, 46097, 111641, 111643, 111646, 111649, 111650, 111651, 111653, 78886, 78887, 78888, 209978, 46141, 13406, 210025, 111722, 78955, 111723, 78956, 78958, 46199, 13432, 46204, 144519, 144520, 144521, 144522, 275594, 242840, 177308, 79008, 46260, 242873, 177348, 46283, 242897, 242898, 242899, 242900, 242901, 111832, 111835, 111836, 111837, 275679, 275680, 79089, 46327, 111868, 79106, 79113, 177420, 46361, 13593, 79131, 13605, 177465, 46397, 46399, 46402, 275800, 144730, 144734, 46437, 46438, 46439, 111974, 111976, 177510, 177512, 275819, 111975, 79220, 79221, 111990, 177528, 177529, 79231, 243075, 79240, 79241, 79242, 144780, 144781, 144782, 210319, 112015, 144783, 112013, 112047, 112048, 210357, 308683, 79313, 79314, 79315, 112087, 112088, 308698, 308699, 210399, 210401, 210402, 13830, 46602, 177675, 144907, 46603, 79382, 112150, 79384, 112151, 79386, 112152, 112164, 112166, 177705, 13874, 13875, 13876, 13877, 79413, 13888, 13889, 13890, 13891, 13892, 13895, 13897, 308809, 112209, 112210, 112211, 46683, 46684, 79452, 46686, 79454, 112224, 144993, 308835, 112228, 177816, 112293, 112294, 46760, 46761, 46762, 46763, 46764, 46765, 243374, 46766, 145115, 145116, 177919, 177920, 79617, 177921, 309012, 14100, 145181, 145229, 145231, 145232, 79704, 243544, 46943, 46944, 210807, 79744, 79745, 243611, 47026, 243648, 178127, 178128, 145363, 145364, 210908, 210909, 210910, 210911, 79874, 243718, 79880, 79881, 79884, 243747, 243748, 145445, 243749, 243750, 14379, 14380, 14381, 14382, 14383, 14384, 145478, 145479, 145480, 243788, 243789, 47182, 47181, 178259, 178260, 112723, 47199, 47200, 47201, 47202, 47203, 211044, 47206, 243817, 79983, 276591, 79987, 47231, 47233, 47235, 178308, 47243, 112783, 112784, 112785, 112786, 112787, 80022, 374944, 243882, 178350, 178351, 80064, 80065, 80066, 80067, 14532, 112846, 112847, 112848, 112849, 80084, 112859, 47341, 145646, 145647, 145655, 145656, 145657, 145658, 145659, 145660, 80135, 178445, 80145, 80146, 145688, 47391, 178481, 112970, 112972, 112973, 112974, 112975, 47443, 112981, 145751, 145752, 145753, 145755, 80228, 276838, 80235, 47486, 47487, 47488, 47489, 145812, 342423, 145815, 211373, 47547, 178623, 211394, 113098, 14800, 14803, 113126, 113127, 113128, 113129, 80369, 80370, 47621, 342562, 342563, 277065, 277066, 113241, 80481, 244322, 80482, 211574, 80509, 80510, 80511, 80512, 80513, 80525, 277138, 47766, 47767, 47768, 47769, 113318, 244411, 146118, 178900, 178902, 178903, 178905, 178906, 309983, 80610, 80612, 80615, 146165, 146167, 146172, 146173, 146179, 113490, 179027, 179028, 80723, 211806, 211807, 211808, 47979, 211830, 211831, 211832, 211833, 15231, 179080, 179081, 179082, 48064, 113638, 48111, 48153, 48154, 15396, 80940, 179245, 179246, 179247, 179248, 80941, 146483, 146484, 146485, 146486, 146487, 146488, 146497, 146498, 146499, 146500, 146503, 146504, 146505, 146506, 277582, 48212, 80982, 80990, 146526, 146528, 146527, 146529, 146531, 48243, 244868, 244869, 244870, 244871, 244872, 244873, 244874, 146572, 146574, 48288, 48289, 48290, 48291, 48292, 48293, 48294, 48295, 48296, 48297, 15544, 212157, 113856, 113857, 244931, 185453, 146630, 146659, 179472, 245009, 48402, 245011, 245010, 245013, 245014, 245012, 81183, 81184, 212259, 212260, 212261, 212262, 81191, 212263, 113959, 179510, 179511, 81208, 81209, 179512, 179532, 179535, 179537, 179538, 277870, 179573, 179577, 81276, 81277, 81278, 212350, 212351, 212353, 245126, 15751, 15755, 277903, 277904, 277905, 81301, 81303, 114076, 376220, 48558, 146863, 48559, 48561, 48560, 48562, 48563, 376254, 310734, 15848, 15849, 277993, 15850, 15852, 15851, 245244, 245248, 146960, 146961, 146964, 81440, 81441, 81442, 81443, 81444, 147009, 15950, 15951, 15952, 15953, 15954, 15955, 15956, 212567, 15961, 114314, 114315, 114316, 179851, 81548, 81547, 16018, 16019, 16027, 16029, 376478, 212653, 212654, 147118, 147129, 179901, 179902, 179903, 179904, 179906, 179907, 212686, 212688, 245474, 278275, 179975, 179976, 179977, 212753, 212754, 179992, 179997, 179998, 81704, 81705, 81706, 81708, 48941, 48942, 48943, 48944, 48945, 278321, 278322, 278323, 114478, 245558, 212795, 245579, 114507, 212813, 212814, 48993, 48994, 48996, 48999, 49002, 81771, 81774, 147328, 147329, 81794, 245644, 147362, 147379, 212917, 147382, 147383, 147384, 180160, 180161, 180162, 180163, 245700, 212941, 212942, 212943, 212944, 212945, 147407, 81883, 212958, 180225, 114709, 81954, 180268, 311361, 49224, 213066, 81997, 344148, 180317, 147553, 114791, 147572, 147573, 16502, 147574, 245880, 147592, 147593, 147594, 245899, 245900, 245901, 147599, 147600, 245905, 213136, 180367, 245904, 180387, 180388, 147624, 147625, 147626, 147627, 147628, 147629, 147630, 147631, 147632, 147633, 147634, 147635, 147636, 147637, 114870, 180408, 180409, 147656, 114889, 114890, 213195, 147667, 147668, 147669, 82137, 16605, 16606, 16609, 16622, 49396, 147706, 180476, 147726, 180505, 278821, 213286, 278824, 278825, 213299, 213300, 82239, 82241, 82242, 82243, 278867, 49493, 49494, 82270, 16735, 16736, 147806, 278884, 246140, 246141, 213377, 213379, 213383, 82313, 82315, 278930, 213405, 213420, 147897, 115133, 180690, 180691, 82400, 82401, 82403, 82404, 82405, 115173, 180717, 311790, 82419, 82420, 147965, 180735, 246273, 246274, 246275, 147975, 410140, 213543, 213544, 180813, 180814, 246355, 180823, 82537, 246380, 246381, 246382, 213613, 213614, 115314, 115315, 115317, 148093, 246397, 82558, 246398, 49816, 148122, 148123, 49819, 148124, 148125, 213677, 49839, 49840, 148161, 148168, 82656, 312037, 246504, 246505, 115434, 115435, 246508, 115436, 115438, 115439, 115437, 115441, 213746, 246506, 246507, 213766, 213768, 148262, 148263, 181030, 181031, 181034, 181032, 181033, 279337, 148264, 181052, 49984, 148299, 148301, 148302, 213842, 213843, 213844, 279379, 279380, 50008, 115549, 115550, 115551, 279425, 279426, 279427, 377752, 148379, 148380, 148385, 246721, 148421, 312314, 312315, 115722, 214031, 214032, 17440, 17454, 214063, 17462, 377916, 50245, 115784, 115785, 17514, 17515, 181356, 115827, 115835, 377983, 50312, 214154, 214155, 214156, 214157, 214158, 214159, 148627, 17571, 279718, 115888, 115889, 115890, 115891, 115892, 50360, 115920, 181494, 181495, 148729, 148730, 148731, 148732, 50429, 148738, 115970, 115971, 148739, 279816, 148767, 83232, 83233, 83234, 83235, 83236, 83237, 83238, 181543, 148772, 181545, 148784, 148785, 148786, 148787, 50483, 50484, 116028, 116029, 83276, 83277, 181598, 181600, 83311, 116082, 116084, 116085, 116086, 116087, 116088, 116089, 50551, 148891, 279964, 279965, 50590, 279966, 17826, 116134, 17858, 17859, 17860, 17861, 214469, 83405, 83406, 83407, 83408, 83409, 83410, 83411, 83412, 83413, 181719, 181728, 116197, 148986, 280061, 280062, 280063, 280064, 17924, 17925, 116231, 83487, 50720, 83516, 83523, 83524, 345675, 345676, 214613, 214614, 214624, 116321, 247429, 214677, 247447, 247448, 214690, 247458, 181924, 181925, 149162, 83627, 149164, 149165, 149163, 149167, 149168, 214712, 214715, 214716, 50876, 50877, 50878, 50879, 181953, 50880, 50881, 18120, 181963, 181964, 181965, 181966, 181967, 181968, 280277, 149217, 116465, 50941, 83720, 83721, 83722, 83723, 83724, 116494, 247572, 345883, 149298, 149299, 149300, 149301, 83764, 83765, 83768, 83766, 83762, 83780, 247634, 149338, 149339, 149340, 182109, 149342, 149341, 149350, 83819, 83820, 83822, 83823, 83825, 149380, 83847, 149404, 247713, 149414, 83899, 18366, 18367, 18380, 18383, 51179, 280556, 280557, 280558, 280559, 51193, 51194, 215035, 51195, 83966, 83967, 83968, 149506, 215044, 215045, 215046, 51209, 83982, 83983, 83985, 83989, 116761, 116762, 116763, 116764, 378908, 247849, 18534, 18535, 18536, 51305, 51307, 18539, 51310, 313497, 313498, 313499, 313500, 313501, 215210, 18609, 18610, 18611, 18612, 18613, 18614, 18615, 280763, 116931, 18629, 84181, 149722, 215270, 280809, 149743, 149746, 149747, 149748, 149749, 84214, 84215, 248050, 215296, 182545, 117011, 117012, 149784, 51481, 51482, 280857, 51484, 280858, 51486, 248104, 117048, 215361, 215362, 215363, 215364, 215365, 51561, 51562, 51563, 51564, 51565, 51566, 51567, 84337, 117130, 117131, 117132, 149902, 149903, 149904, 149905, 149906, 149907, 117151, 84387, 84388, 84389, 51621, 51623, 84392, 51622, 51625, 51626, 51627, 51629, 51630, 215470, 215472, 51624, 215488, 215517, 149991, 149994, 84464, 84465, 84467, 84468, 117241, 18941, 18942, 215551, 215552, 215553, 215554, 18943, 18944, 18949, 215557, 18946, 18947, 18948, 18945, 281102, 51733, 51737, 182811, 215597, 51799, 248441, 182914, 182934, 51871, 314016, 51874, 150186, 117426, 117427, 117428, 117429, 150206, 150207, 150208, 182991, 19163, 248542, 19173, 19174, 19175, 19176, 19177, 281334, 281335, 150273, 150274, 150275, 51970, 314119, 150281, 84748, 84761, 117534, 117536, 117541, 84775, 183096, 281414, 183111, 281416, 215882, 117579, 84810, 215885, 314186, 248658, 215904, 215905, 215906, 215907, 215908, 281445, 215909, 52085, 52086, 52087, 52088, 52089, 215930, 52090, 52092, 19325, 19324, 19327, 52091, 117624, 150426, 150427, 150428, 117672, 117673, 183220, 150455, 117688, 150456, 117687, 117691, 84937, 248789, 19419, 52197, 19441, 150535, 117782, 117800, 117801, 85037, 248878, 248879, 216113, 85054, 85055, 85057, 85060, 85068, 117883, 52362, 19644, 19645, 19647, 19648, 183508, 183530, 183531, 183534, 85245, 85246, 85247, 85248, 183562, 314640, 118046, 118047, 118048, 249143, 150851, 19789, 85336, 85340, 150881, 183656, 183657, 183658, 183659, 183663, 19829, 19830, 216457, 216458, 183691, 118183, 118184, 118185, 118186, 118187, 118188, 118189, 118190, 85460, 249308, 151006, 118243, 118244, 151025, 118264, 118265, 249365, 249366, 249367, 216599, 151063, 151065, 249370, 85545, 85546, 20017, 20018, 216641, 85584, 85585, 85588, 282197, 347733, 347734, 347735, 85589, 216669, 216670, 216671, 20073, 20075, 20081, 151158, 183950, 118415, 118416, 118418, 216725, 85655, 85665, 85666, 85667, 85668, 85669, 85670, 85671, 85672, 85673, 183977, 85693, 85694, 216768, 216773, 151246, 20176, 20182, 216795, 282336, 53000, 53001, 249620, 380704, 118572, 20268, 216878, 216879, 216886, 53099, 118641, 184183, 184184, 282492, 282493, 282494, 282495, 282496, 282497, 184197, 184198, 282511, 216975, 184212, 85908, 118678, 151453, 151454, 151455, 118701, 217007, 184242, 184243, 184279, 348138, 53234, 151542, 151543, 86008, 86009, 86013, 53249, 53250, 53251, 380932, 53252, 53253, 217099, 217100, 282638, 151566, 217112, 217113, 217114, 217115, 217116, 217117, 151610, 249920, 151619, 86100, 184414, 151646, 53344, 53345, 53346, 53347, 53348, 53349, 53350, 184423, 53351, 184422, 184426, 184424, 184425, 217203, 282739, 86131, 151675, 151682, 151683, 151684, 151685, 151686, 151688, 282771, 86167, 184487, 20669, 20670, 20671, 250048, 20672, 20673, 315606, 119009, 250090, 184570, 184577, 250116, 20770, 20771, 20772, 20775, 20776, 86317, 86318, 86319, 184632, 20797, 315721, 119127, 184667, 184668, 184669, 184670, 53601, 53603, 151909, 184713, 184715, 151962, 151963, 283036, 86430, 119207, 250280, 119208, 217517, 217518, 151983, 20916, 217532, 119230, 217601, 217606, 283162, 152103, 152132, 86601, 86602, 250448, 250449, 217714, 217715, 217716, 217717, 217718, 217719, 217720, 152189, 119427, 119429, 119432, 119433, 119434, 184979, 119443, 152218, 86695, 283319, 283320, 283321, 217789, 152258, 152259, 152260, 152261, 119500, 119501, 119505, 152288, 185081, 119556, 21260, 185123, 86837, 86838, 86839, 86840, 86841, 185161, 185162, 185163, 119656, 119671, 119679, 119680, 185219, 185229, 185230, 185231, 185232, 185233, 250797, 250807, 250813, 152519, 152522, 54228, 54229, 54231, 316394, 218093, 250883, 185363, 185364, 250901, 250902, 250903, 185366, 54309, 152617, 218153, 218154, 316465, 54327, 54328, 87122, 316508, 316509, 185440, 54379, 54380, 54381, 54382, 87151, 54383, 87153, 87154, 87155, 54384, 54385, 21617, 185463, 283772, 283774, 283775, 283776, 54399, 152726, 152727, 152728, 152729, 152754, 152755, 152756, 152757, 152758, 316597, 349372, 152769, 152770, 152771, 152772, 152773, 152774, 185544, 120028, 185579, 185580, 185581, 185582, 185583, 218356, 54552, 54553, 54554, 54555, 54556, 120106, 120109, 87341, 87342, 87344, 87343, 185651, 349501, 349502, 54590, 152899, 185671, 185672, 185673, 54610, 251219, 54618, 54621, 185700, 21863, 21864, 21866, 120174, 120175, 120176, 54638, 54643, 54645, 218491, 349565, 120191, 218500, 120197, 316827, 316828, 251297, 251298, 185780, 185781, 185782, 185783, 185784, 251359, 120287, 120291, 87523, 21989, 120292, 120295, 251368, 120297, 120298, 120299, 120296, 120293, 120294, 218660, 22059, 22060, 153133, 120371, 153140, 120372, 382550, 153195, 153196, 153197, 54897, 54900, 153209, 153226, 120459, 120460, 120461, 87698, 87699, 284314, 251549, 251559, 120487, 120488, 218801, 87734, 87735, 87736, 317114, 87739, 87738, 186071, 186072, 186073, 153312, 186110, 251651, 120594, 120596, 87833, 120601, 120604, 153374, 153376, 153380, 22317, 22325, 22326, 87892, 120666, 186205, 186206, 55138, 55140, 55144, 186217, 284522, 55147, 55158, 120695, 120719, 87972, 87973, 251815, 317371, 317372, 120784, 120785, 120786, 317427, 55294, 153610, 153612, 120845, 219154, 219155, 120860, 120861, 120862, 120863, 120864, 251937, 120865, 284711, 284712, 55340, 55341, 55342, 219200, 219212, 219213, 219214, 219215, 219216, 252005, 55398, 252006, 120946, 120947, 120948, 88187, 55427, 186505, 22665, 22669, 88279, 121047, 121048, 317657, 219355, 219356, 219357, 219358, 219359, 88310, 88314, 88328, 153886, 219428, 88387, 88388, 88389, 88432, 88433, 88434, 88435, 252294, 121222, 121230, 121232, 121233, 219551, 88485, 55717, 55718, 121273, 88559, 88560, 88561, 88562, 88584, 88585, 88586, 88588, 88590, 285200, 88607, 88608, 88609, 88610, 88611, 88612, 88613, 88614, 252463, 252464, 154190, 121425, 121426, 318035, 88676, 154214, 88679, 88681, 88688, 88694, 88696, 88697, 88698, 55939, 55940, 55941, 55942, 154244, 55944, 88720, 88731, 88732, 55980, 219837, 252607, 121536, 121535, 121537, 121538, 121539, 121540, 121542, 121541, 88809, 154352, 187159, 187160, 187162, 187163, 187164, 187166, 187167, 187168, 219937, 285473, 154404, 88888, 23362, 23364, 56143, 187260, 121725, 56212, 56213, 23520, 121830, 121831, 121832, 154625, 220162, 154626, 154627, 220165, 56323, 56360, 89128, 56362, 56369, 23601, 23604, 220235, 351320, 154718, 23653, 220265, 220266, 220267, 220268, 23667, 23668, 89205, 89206, 23670, 23671, 187517, 154770, 154771, 89254, 122037, 285882, 285883, 89289, 285943, 187643, 187644, 187645, 154879, 154897, 154899, 187682, 89378, 187683, 89379, 89380, 89381, 89382, 89424, 122199, 220518, 253310, 155012, 122248, 89482, 286108, 253361, 318897, 155087, 122338, 122339, 220671, 56901, 56903, 24135, 24156, 24158, 253535, 253536, 56933, 89702, 24172, 24173, 24174, 24175, 24176, 24177, 89714, 56946, 24178, 56948, 56949, 24179, 56947, 24180, 24181, 24182, 24183, 24184, 24185, 220799, 24186, 89721, 122504, 122505, 24210, 24211, 122516, 122517, 24212, 24213, 24232, 253610, 253611, 122541, 89775, 89776, 57009, 89778, 89777, 89781, 220853, 188090, 188094, 188095, 155347, 57059, 122598, 220905, 220906, 220907, 220908, 122605, 122606, 122607, 122608, 122609, 122610, 122611, 122612, 57075, 220909, 122617, 155390, 253704, 24367, 24368, 24369, 89903, 24371, 89904, 24373, 89905, 24372, 24370, 24374, 155443, 286528, 188261, 352104, 155534, 24505, 24506, 24507, 24509, 188369, 57309, 253937, 188424, 57382, 155713, 122956, 188507, 221295, 221296, 221297, 221298, 221299, 57478, 155792, 155793, 123034, 24731, 286878, 24735, 90272, 90273, 90276, 221354, 90288, 90289, 90291, 155831, 24798, 123128, 123129, 24836, 24838, 90422, 221495, 254310, 156013, 156014, 156015, 156016, 221565, 287102, 221567, 221566, 24968, 287121, 254363, 188832, 254372, 254373, 188838, 188847, 25010, 25011, 25012, 25013, 25014, 25015, 25016, 25055, 25057, 25058, 90608, 123386, 221705, 221707, 221708, 221727, 221728, 254502, 57900, 25134, 90681, 90682, 90684, 90685, 90687, 90700, 123469, 90701, 90703, 90704, 90705, 90706, 90702, 123468, 57937, 57945, 90740, 90765, 189079, 58011, 58012, 156318, 156319, 156320, 58015, 156322, 156321, 221880, 221881, 221882, 221883, 90828, 123608, 320216, 320217, 90846, 25311, 90850, 123645, 25343, 25344, 25345, 25346, 25347, 156426, 58143, 58145, 58146, 58150, 123686, 254761, 90924, 189241, 189242, 222024, 222025, 222026, 222027, 222028, 123728, 123732, 90975, 90976, 90977, 90978, 90979, 90980, 156518, 156519, 90988, 25457, 254844, 25472, 156556, 156559, 189337, 189338, 25512, 25517, 353202, 353203, 25533, 222150, 91096, 91097, 91098, 91099, 91100, 91101, 25569, 123896, 254969, 123905, 123906, 123907, 123908, 123909, 123910, 123911, 123912, 222222, 189482, 189483, 189484, 189485, 189486, 222263, 25660, 25661, 255038, 255039, 156740, 320593, 189525, 91237, 222314, 189551, 189552, 287883, 287884, 386199, 189596, 91323, 91331, 156879, 156880, 124112, 124113, 156882, 91362, 25842, 25847, 58616, 58617, 58618, 58619, 91386, 58621, 91388, 91387, 255252, 255253, 255254, 58646, 222489, 222490, 156965, 156967, 124200, 25911, 189756, 222537, 58705, 58706, 58708, 58710, 58711, 58712, 58713, 58714, 58715, 58716, 58717, 91490, 222591, 320897, 189835, 189836, 189855, 222656, 26059, 26060, 26061, 26062, 26063, 189904, 288209, 320986, 222694, 58902, 58903, 58904, 321057, 321058, 189991, 222775, 91708, 91709, 91710, 190015, 157256, 58955, 58958, 58960, 58961, 255571, 124503, 26212, 26213, 26214, 26215, 26216, 91754, 91755, 190082, 91779, 59020, 59021, 59022, 124575, 157344, 255652, 321239, 222940, 59117, 59118, 91886, 91888, 91887, 59136, 124686, 59155, 222996, 124694, 288539, 255774, 59167, 59190, 223041, 124786, 223100, 190353, 26520, 26521, 26523, 190365, 190366, 190367, 190368, 321441, 190369, 190370, 190371, 26533, 26534, 124862, 124863, 124864, 124865, 124866, 124867, 92111, 26588, 26589, 124894, 124895, 124896, 124897, 124898, 26590, 26591, 26592, 223209, 223210, 223212, 223213, 157723, 190493, 157729, 124970, 157768, 59470, 125041, 125042, 125043, 59585, 223452, 157946, 223503, 190736, 223504, 59681, 157990, 157991, 157992, 157993, 157994, 157995, 157996, 157997, 157998, 157999, 158000, 158001, 223529, 190771, 190772, 92469, 190775, 190801, 190820, 190821, 190822, 190823, 190824, 92525, 59783, 223631, 223632, 125334, 256458, 125388, 125389, 27087, 256480, 125416, 27114, 27120, 125436, 223745, 190990, 92688, 190993, 92690, 92689, 92693, 92705, 191014, 27199, 27200, 27210, 92754, 256597, 158303, 158304, 158305, 158306, 125558, 158333, 158334, 158335, 158336, 223873, 158337, 158338, 60031, 158386, 158388, 158395, 158396, 158397, 125638, 125639, 125640, 191182, 125647, 125648, 125649, 125646, 125650, 256732, 256733, 322287, 322288, 191221, 191253, 27417, 125736, 125737, 256811, 256817, 256818, 158513, 158514, 158515, 158516, 27489, 27492, 93037, 93038, 158584, 93051, 93052, 93055, 27521, 191383, 158616, 158617, 125848, 191390, 125880, 93113, 93121, 60356, 191436, 224204, 322523, 125919, 289760, 125920, 125921, 125922, 93167, 125936, 224242, 191502, 191503, 191504, 191505, 60436, 60437, 322595, 158766, 224321, 158818, 60525, 27771, 257182, 191653, 191654, 191655, 126131, 191690, 257238, 257239, 93416, 126189, 257262, 126191, 257268, 257280, 60683, 126227, 126228, 27928, 224543, 191779, 257323, 159021, 159022, 159023, 159024, 159025, 191796, 191797, 191798, 191799, 60725, 60735, 60736, 60737, 60738, 60739, 60740, 60741, 159120, 159121, 191890, 126359, 60829, 60834, 191922, 159167, 191951, 93657, 93661, 93662, 93663, 93664, 93665, 93666, 159203, 126451, 28154, 28155, 28156, 28157, 28158, 126464, 224768, 126466, 126467, 126473, 192039, 192040, 192041, 126519, 126520, 126521, 93762, 323144, 159319, 159320, 159321, 159322, 159323, 159324, 159325, 224866, 159341, 224881, 28273, 257653, 257654, 192130, 126599, 126600, 126601, 126602, 126603, 126604, 126605, 192148, 61082, 257692, 159397, 159398, 159399, 290472, 192177, 192178, 192179, 192180, 61117, 126678, 126680, 93918, 159456, 159457, 159458, 356065, 159459, 159460, 93934, 225016, 225017, 61201, 126738, 61202, 225047, 192287, 192288, 28451, 159537, 159538, 159539, 159540, 159541, 323381, 323382, 323383, 290610, 192327, 192328, 323410, 126835, 28533, 28534, 28535, 323453, 323454, 28558, 225167, 28560, 28561, 28559, 28563, 28562, 28564, 159640, 257958, 126895, 126896, 126897, 126898, 192439, 192440, 290751, 290752, 290753, 61382, 61383, 61384, 61393, 94181, 225272, 94204, 94205, 61469, 127026, 127028, 127030, 127031, 94269, 61518, 61519, 61528, 61529, 61530, 61531, 61532, 61533, 61534, 61536, 61537, 159851, 225404, 225405, 61568, 127108, 127109, 127110, 61615, 192698, 127165, 192702, 28870, 94413, 61658, 225512, 94448, 192771, 192772, 192773, 94505, 94506, 94507, 61743, 61744, 127283, 127284, 127285, 127286, 323891, 323892, 127288, 127287, 192829, 192830, 28996, 192844, 61777, 192870, 192871, 192872, 192873, 192874, 192893, 127361, 127362, 127363, 127364, 29060, 127366, 29062, 29064, 29065, 29063, 29061, 258456, 258457, 258459, 94620, 94621, 94622, 291240, 94632, 61873, 61874, 94647, 94648, 94651, 94652, 94653, 29127, 29128, 29129, 192970, 192971, 192972, 258509, 192973, 192974, 192975, 192976, 127451, 127452, 127453, 127454, 324062, 324064, 29153, 61920, 127472, 127473, 127474, 127475, 61957, 61962, 127503, 94743, 94759, 61996, 127550, 127551, 127552, 94789, 62028, 62029, 62030, 62031, 62032, 62033, 62034, 62035, 62036, 160343, 94810, 225883, 94812, 225884, 225885, 225886, 225887, 225888, 62059, 127601, 127602, 127603, 127604, 127605, 127606, 127607, 193149, 193150, 193151, 193152, 160390, 160391, 291464, 160392, 62100, 127640, 94885, 160423, 127679, 94915, 258782, 258783, 29421, 94970, 94971, 127746, 127747, 127748, 127749, 127750, 127751, 127752, 127753, 127754, 62216, 62218, 62215, 62217, 62238, 226082, 62259, 95044, 160584, 62288, 29520, 160637, 357247, 95112, 127881, 95114, 127882, 127883, 127884, 127885, 127886, 127887, 127888, 95118, 29643, 29644, 160753, 160757, 324605, 324606, 324607, 29700, 29705, 95305, 95306, 226380, 62544, 29777, 160863, 29793, 193648, 193649, 95351, 193659, 193660, 62593, 128130, 62613, 62614, 128160, 128173, 128174, 95406, 128196, 160965, 62665, 292049, 95446, 128227, 128228, 128229, 128240, 128241, 128242, 128243, 128244, 128245, 128246, 128247, 128248, 95492, 95493, 95496, 95509, 95520, 95523, 357690, 357691, 62786, 128325, 193869, 259407, 259408, 259409, 259410, 259411, 259412, 259413, 259414, 62810, 62811, 161116, 161120, 62829, 324983, 324984, 128380, 128381, 128383, 161166, 193935, 226704, 161167, 62878, 95745, 62983, 62985, 62987, 325134, 325135, 128558, 30258, 128563, 226867, 226869, 30262, 226868, 30259, 128574, 128575, 128577, 30286, 128594, 63087, 63088, 63089, 63090, 194201, 259738, 259739, 128684, 161458, 161459, 161460, 161461, 128692, 161463, 128693, 30393, 128694, 128695, 128696, 128697, 128698, 161462, 30396, 95949, 161490, 161491, 128723, 161494, 161496, 161499, 227037, 194321, 194323, 161563, 128814, 128815, 128816, 128817, 63288, 259899, 194365, 161603, 390991, 194387, 259928, 96095, 96111, 96112, 161657, 194440, 194441, 194442, 128932, 96179, 30653, 30654, 194495, 194496, 194498, 194500, 194501, 63448, 128985, 30700, 30708, 63510, 63531, 161845, 161846, 161847, 161848, 161849, 161850, 161851, 260153, 63560, 260177, 30809, 30811, 227430, 129133, 63598, 129134, 129136, 325747, 325748, 63631, 63634, 63635, 63661, 63662, 129224, 129225, 129231, 129241, 129242, 129243, 227545, 129245, 129246, 227549, 129248, 96495, 194801, 194802, 96499, 325895, 293151, 293152, 63779, 63781, 96560, 227633, 227634, 162099, 194870, 31031, 293183, 31039, 96591, 260436, 260437, 63837, 260455, 260456, 260457, 227699, 63860, 63861, 63862, 63863, 63864, 63867, 63868, 96637, 162182, 162204, 96695, 260537, 260538, 227792, 96727, 31236, 293389, 326158, 96797, 96798, 162335, 96800, 96802, 96803, 260658, 31284, 64073, 64074, 31308, 31317, 31320, 64109, 64110, 64111, 64112, 64113, 64114, 64115, 64116, 64117, 64118, 227957, 227966, 227967, 227968, 96933, 96934, 96935, 96936, 293570, 64210, 195282, 195283, 195284, 195286, 195287, 195292, 195293, 195305, 31478, 64248, 195345, 326434, 31537, 162610, 195390, 31552, 31553, 31554, 31555, 64329, 195403, 64333, 129880, 129881, 228186, 162658, 129897, 129899, 64379, 260993, 260995, 260996, 260997, 195467, 195468, 195480, 228261, 228262, 228263, 228299, 129995, 129999, 162768, 162769, 130013, 64484, 228330, 130035, 130036, 130053, 162826, 130069, 130070, 162890, 162891, 130134, 293976, 64649, 228500, 97428, 97447, 130225, 162999, 163000, 163001, 195768, 195770, 261315, 163020, 130281, 97520, 130290, 97523, 228594, 228595, 228596, 97524, 130296, 64762, 64764, 32008, 97546, 32011, 163084, 97551, 64799, 163118, 64814, 64816, 163124, 163125, 163126, 163127, 163135, 163136, 359744, 359745, 163151, 64851, 64864, 32097, 64865, 64866, 64867, 32096, 97634, 130412, 130413, 195953, 97656, 294265, 294266, 294267, 64893, 32125, 195976, 195979, 32223, 130548, 130549, 130551, 130552, 261629, 261630, 261631, 97799, 130568, 32282, 228899, 228900, 228901, 228902, 228903, 228912, 228913, 228914, 228915, 228916, 130614, 228918, 228923, 196156, 196157, 196155, 32320, 65095, 65096, 65097, 65098, 65099, 65100, 65101, 65102, 196181, 32357, 196202, 196203, 196204, 65135, 65136, 228980, 228981, 228982, 65143, 228983, 228985, 228986, 228984, 65148, 294528, 261764, 261765, 130703, 229017, 32444, 261826, 196291, 32456, 32457, 32458, 32459, 32460, 32461, 32462, 229071, 32463, 229073, 229072, 32464, 130824, 229128, 130831, 32528, 196371, 196372, 32540, 130902, 65367, 65371, 65372, 229216, 32613, 32614, 130930, 196478, 196479, 196480, 196481, 229254, 32656, 32657, 32658, 32659, 32660, 32661, 32662, 32663, 163738, 163739, 163740, 163741, 163752, 163753, 294832, 196548, 98249, 98250, 98251, 98252, 98253, 98254, 65482, 294860, 98257, 294874, 32744]\n"
     ]
    }
   ],
   "source": [
    "small_subgraph = subgraph\n",
    "# nodelist = random.sample(g.nodes(), subgraphsize)\n",
    "node_list = small_subgraph.nodes()\n",
    "print(node_list)"
   ]
  },
  {
   "cell_type": "code",
   "execution_count": 16,
   "metadata": {},
   "outputs": [
    {
     "name": "stdout",
     "output_type": "stream",
     "text": [
      "16003653\n"
     ]
    }
   ],
   "source": [
    "comb = list(combinations(node_list, 2))\n",
    "print(len(comb))"
   ]
  },
  {
   "cell_type": "code",
   "execution_count": 17,
   "metadata": {},
   "outputs": [],
   "source": [
    "node_data = {}\n",
    "\n",
    "for node_pair in list(comb):\n",
    "    node_data[(node_pair[0], node_pair[1])] = []\n",
    "    score = 0\n",
    "    A, B = node_pair\n",
    "    neighborsA = set(small_subgraph.neighbors(A))\n",
    "    neighborsB = set(small_subgraph.neighbors(B))\n",
    "    common_count = len(neighborsA.intersection(neighborsB))\n",
    "    common_list = neighborsA.intersection(neighborsB)\n",
    "    total_count = len(neighborsA.union(neighborsB))\n",
    "    for z in list(common_list):\n",
    "        score = score + 1/small_subgraph.degree(z)\n",
    "    node_data[A, B].append(score)\n",
    "    if total_count == 0:\n",
    "        node_data[A, B].append(-1)\n",
    "    else:\n",
    "        node_data[A, B].append(common_count/total_count)  \n",
    "#       first value is preferential attachment, second value is jaccard index"
   ]
  },
  {
   "cell_type": "code",
   "execution_count": 18,
   "metadata": {},
   "outputs": [
    {
     "name": "stdout",
     "output_type": "stream",
     "text": [
      "[1.0, 1.0, 1.0, 1.0, 1.0, 1.0, 1.0, 1.0, 1.0, 1.0]\n"
     ]
    }
   ],
   "source": [
    "all_elements = []\n",
    "for key,items in node_data.items():\n",
    "    all_elements.append(items[1])\n",
    "all_elements.sort(reverse=True)\n",
    "print(all_elements[0:10])\n"
   ]
  },
  {
   "cell_type": "code",
   "execution_count": 19,
   "metadata": {},
   "outputs": [],
   "source": [
    "sorted_elements = sorted(node_data.keys(), key=lambda single_key: node_data[single_key][1], reverse=True)"
   ]
  },
  {
   "cell_type": "code",
   "execution_count": 20,
   "metadata": {},
   "outputs": [
    {
     "name": "stdout",
     "output_type": "stream",
     "text": [
      "[(263390, 60834), (66915, 67734), (34959, 59681), (133359, 133360), (102693, 108913), (37350, 44783), (267005, 267006), (267005, 267007), (267006, 267007), (5858, 93167)]\n"
     ]
    }
   ],
   "source": [
    "print(sorted_elements[0:10])"
   ]
  },
  {
   "cell_type": "code",
   "execution_count": 21,
   "metadata": {},
   "outputs": [
    {
     "name": "stdout",
     "output_type": "stream",
     "text": [
      "0.6998\n"
     ]
    }
   ],
   "source": [
    "t = 0\n",
    "f = 0\n",
    "for pair in sorted_elements[0:5000]:\n",
    "    if(subgraph.has_edge(pair[0], pair[1]) == True):\n",
    "#          print(pair, True)\n",
    "         t = t + 1\n",
    "    else:\n",
    "#          print(pair, False)\n",
    "         f = f + 1\n",
    "print(t/(t+f)) "
   ]
  },
  {
   "cell_type": "code",
   "execution_count": 22,
   "metadata": {},
   "outputs": [
    {
     "name": "stdout",
     "output_type": "stream",
     "text": [
      "16003653\n"
     ]
    }
   ],
   "source": [
    "print(len(node_data))"
   ]
  },
  {
   "cell_type": "markdown",
   "metadata": {},
   "source": [
    "Task: Create two histograms, one for preferential attachment and one for jaccard index. The x-axis is going to be the preferential attachment or jaccard index score. The y axis is going to represent how many of the pairs of nodes from node_data have this specific score.\n",
    "\n"
   ]
  },
  {
   "cell_type": "code",
   "execution_count": 23,
   "metadata": {},
   "outputs": [],
   "source": [
    "pref_indexes = []\n",
    "jacc_indexes = []\n",
    "for key,items in node_data.items():\n",
    "    if(items[0] > 0):\n",
    "        pref_indexes.append(items[0])\n",
    "    if(items[1] > 0):\n",
    "        jacc_indexes.append(items[1])\n",
    "    "
   ]
  },
  {
   "cell_type": "code",
   "execution_count": 24,
   "metadata": {},
   "outputs": [
    {
     "data": {
      "image/png": "[encoded data removed]",
      "text/plain": [
       "<Figure size 432x288 with 1 Axes>"
      ]
     },
     "metadata": {
      "needs_background": "light"
     },
     "output_type": "display_data"
    }
   ],
   "source": [
    "plt.hist(pref_indexes, 15)\n",
    "plt.xlabel(\"Preferential Attachment\")\n",
    "plt.ylabel(\"Frequency\")\n",
    "plt.title(\"Preferential Attachment Frequencies\")\n",
    "plt.show\n",
    "plt.savefig(\"pref\")"
   ]
  },
  {
   "cell_type": "code",
   "execution_count": 25,
   "metadata": {},
   "outputs": [
    {
     "data": {
      "image/png": "[encoded data removed]",
      "text/plain": [
       "<Figure size 432x288 with 1 Axes>"
      ]
     },
     "metadata": {
      "needs_background": "light"
     },
     "output_type": "display_data"
    }
   ],
   "source": [
    "plt.hist(jacc_indexes, 15, color=\"red\")\n",
    "plt.xlabel(\"Jaccard Index\")\n",
    "plt.ylabel(\"Frequency\")\n",
    "plt.title(\"Jaccard Index Frequencies\")\n",
    "plt.show\n",
    "plt.savefig(\"jaccard\")\n"
   ]
  },
  {
   "cell_type": "code",
   "execution_count": 26,
   "metadata": {},
   "outputs": [
    {
     "name": "stdout",
     "output_type": "stream",
     "text": [
      "7.148367938245099e-05 0.0004782658059381817\n"
     ]
    }
   ],
   "source": [
    "pref_greater = 0\n",
    "pref_less = 0\n",
    "jacc_greater = 0\n",
    "jacc_less = 0\n",
    "for key,items in node_data.items():\n",
    "    if(items[0] > 0.4):\n",
    "        pref_greater = pref_greater + 1\n",
    "    if(items[0] <= 0.4):\n",
    "        pref_less = pref_less + 1\n",
    "    if(items[1] > 0.4):\n",
    "        jacc_greater = jacc_greater + 1\n",
    "    if(items[1] <= 0.4):\n",
    "        jacc_less = jacc_less + 1\n",
    "\n",
    "print(pref_greater/(pref_greater+pref_less), jacc_greater/(jacc_greater+jacc_less))\n",
    "        \n"
   ]
  },
  {
   "cell_type": "code",
   "execution_count": 27,
   "metadata": {},
   "outputs": [],
   "source": [
    "\n",
    "#first compute the best partition\n",
    "partition = community_louvain.best_partition(subgraph.to_undirected())\n",
    "\n",
    "# compute the best partition\n",
    "partition = community_louvain.best_partition(subgraph.to_undirected())\n",
    "\n",
    "# # draw the graph\n",
    "# pos = nx.spring_layout(G)\n",
    "# # color the nodes according to their partition\n",
    "# cmap = cm.get_cmap('viridis', max(partition.values()) + 1)\n",
    "# nx.draw_networkx_nodes(G, pos, partition.keys(), node_size=40,\n",
    "#                        cmap=cmap, node_color=list(partition.values()))\n",
    "# nx.draw_networkx_edges(G, pos, alpha=0.5)\n",
    "# plt.show()"
   ]
  },
  {
   "cell_type": "code",
   "execution_count": 28,
   "metadata": {},
   "outputs": [
    {
     "name": "stdout",
     "output_type": "stream",
     "text": [
      "{98324: 0, 229401: 1, 229402: 1, 32806: 2, 98373: 3, 163914: 3, 32903: 4, 32904: 4, 32905: 4, 32906: 4, 32909: 2, 32910: 2, 32911: 2, 32913: 2, 262290: 5, 32915: 2, 32916: 2, 164027: 1, 327868: 1, 327869: 1, 196822: 1, 131292: 6, 131293: 6, 131313: 7, 131319: 0, 164101: 8, 164102: 9, 131341: 0, 65813: 10, 65814: 6, 131369: 1, 131370: 1, 98640: 1, 98644: 1, 295258: 0, 131420: 11, 131421: 11, 131422: 11, 131423: 11, 65886: 12, 131425: 11, 131426: 11, 131427: 11, 65887: 12, 98664: 6, 197000: 13, 33165: 7, 229782: 14, 229783: 14, 33181: 15, 262566: 8, 65962: 1, 65963: 1, 65964: 1, 65965: 1, 65966: 1, 65967: 1, 65969: 1, 65970: 1, 98748: 16, 98749: 16, 98750: 16, 98751: 16, 98752: 16, 98753: 16, 98754: 17, 33229: 1, 33230: 1, 98772: 4, 98773: 4, 98774: 4, 131548: 18, 131549: 18, 197101: 0, 33303: 4, 98869: 10, 229945: 1, 229946: 1, 98878: 19, 197184: 20, 197185: 20, 33349: 8, 295495: 5, 593: 6, 594: 6, 595: 6, 131709: 6, 164481: 8, 98948: 4, 98964: 3, 98965: 3, 98967: 3, 98968: 3, 131737: 21, 230045: 21, 262836: 6, 197313: 20, 262894: 12, 262905: 0, 164611: 4, 262917: 16, 262918: 16, 262919: 16, 262920: 16, 197389: 4, 262925: 0, 66330: 18, 197410: 18, 197411: 18, 164645: 19, 164646: 19, 164647: 19, 230184: 8, 197414: 19, 197415: 19, 33618: 12, 33619: 12, 33620: 12, 33621: 12, 33622: 12, 230231: 5, 230232: 5, 230233: 5, 230234: 0, 33623: 12, 131945: 16, 328569: 1, 230276: 8, 230277: 8, 164744: 18, 99239: 22, 99272: 4, 99274: 4, 972: 6, 99276: 4, 974: 6, 975: 6, 99277: 4, 977: 6, 33746: 12, 66522: 8, 197625: 0, 164860: 1, 164861: 1, 132166: 12, 296013: 14, 99406: 1, 132176: 11, 230492: 16, 66669: 23, 66670: 23, 66671: 18, 66677: 4, 66678: 4, 66679: 4, 66680: 4, 66690: 5, 66692: 6, 165013: 3, 197797: 14, 197799: 14, 197801: 14, 66740: 3, 66741: 3, 66742: 3, 99545: 0, 99546: 0, 99547: 0, 99548: 0, 263390: 0, 99550: 0, 99581: 5, 230675: 18, 296228: 0, 165157: 24, 165158: 24, 165159: 24, 165160: 24, 165161: 24, 34090: 12, 165162: 24, 34091: 12, 263465: 0, 132389: 0, 132391: 0, 132403: 4, 132404: 4, 132405: 4, 132406: 4, 132407: 4, 263484: 0, 296276: 6, 66902: 25, 66915: 5, 197989: 0, 132478: 19, 198041: 8, 198043: 8, 66972: 12, 66973: 12, 66974: 12, 66975: 12, 66976: 12, 66977: 12, 165283: 1, 165287: 1, 66985: 1, 66986: 1, 66987: 1, 66988: 1, 66989: 1, 66990: 1, 132535: 2, 132538: 16, 132539: 16, 132544: 0, 329154: 5, 329155: 5, 132557: 8, 132558: 8, 132600: 18, 296454: 13, 296455: 13, 296456: 13, 296457: 13, 296458: 13, 198165: 23, 132665: 14, 132667: 14, 132688: 8, 67157: 12, 67183: 4, 99978: 8, 165537: 1, 165538: 1, 132773: 18, 198319: 0, 329403: 0, 329404: 0, 329405: 0, 329406: 0, 263890: 13, 132819: 19, 165606: 8, 165607: 8, 165608: 8, 165609: 17, 132860: 26, 132861: 26, 329472: 0, 67330: 27, 34592: 12, 34593: 12, 34594: 12, 34595: 12, 263976: 2, 263978: 25, 67384: 18, 165695: 8, 67413: 25, 100201: 0, 133049: 8, 198587: 11, 296892: 10, 198600: 20, 198601: 16, 198602: 8, 198603: 20, 198604: 8, 67556: 10, 67557: 1, 67558: 18, 67559: 3, 165878: 8, 165879: 8, 165880: 8, 165881: 8, 133130: 18, 198703: 10, 198704: 10, 198705: 10, 198706: 10, 198707: 5, 100403: 12, 165943: 14, 2103: 6, 2104: 6, 2105: 6, 2106: 6, 198730: 8, 34900: 22, 198747: 8, 198749: 8, 198752: 0, 198753: 0, 198754: 0, 198755: 0, 264290: 8, 67707: 12, 67708: 12, 67712: 24, 67713: 24, 67714: 24, 67715: 24, 67716: 24, 67717: 24, 67718: 24, 67719: 24, 67720: 24, 67721: 24, 34959: 0, 67729: 5, 67730: 5, 67731: 5, 67732: 5, 67733: 5, 67734: 5, 231575: 8, 67735: 5, 231581: 0, 198816: 2, 231584: 0, 100517: 12, 100519: 16, 100520: 14, 133301: 1, 133302: 1, 329932: 24, 35038: 25, 35039: 25, 133355: 8, 133356: 8, 133357: 8, 133358: 8, 133359: 8, 133360: 8, 133361: 8, 264436: 11, 264437: 11, 264438: 11, 133377: 19, 133378: 19, 133379: 19, 133380: 19, 264463: 8, 264464: 16, 133403: 8, 166172: 8, 166173: 8, 166174: 8, 166175: 8, 133413: 16, 133414: 5, 67883: 16, 297264: 21, 67892: 5, 264517: 13, 264518: 13, 264519: 13, 264520: 13, 264521: 13, 35165: 12, 231778: 8, 231779: 8, 231780: 0, 264562: 1, 264636: 8, 199105: 16, 231885: 5, 100820: 6, 100823: 6, 297435: 6, 35296: 3, 297445: 5, 35325: 18, 35327: 6, 330243: 4, 199194: 14, 2611: 1, 2612: 1, 297528: 5, 199240: 28, 68183: 21, 166490: 16, 166496: 12, 68192: 29, 68196: 29, 68197: 29, 35436: 18, 297599: 12, 166534: 8, 166535: 8, 166536: 8, 166537: 8, 166538: 8, 68234: 22, 68236: 12, 166568: 5, 166569: 5, 166570: 30, 166571: 14, 166572: 14, 35541: 11, 35542: 11, 35543: 11, 133848: 12, 35544: 11, 35546: 11, 72194: 3, 68316: 22, 68314: 22, 68317: 22, 166630: 0, 133871: 19, 101122: 0, 101123: 0, 101124: 0, 101125: 0, 101126: 0, 35591: 12, 101128: 0, 35592: 12, 35594: 12, 101129: 9, 101127: 9, 35593: 12, 199440: 16, 199441: 5, 199442: 5, 35608: 31, 199451: 0, 101149: 4, 35623: 31, 68400: 12, 35640: 7, 101186: 32, 101187: 32, 101188: 32, 101189: 32, 101190: 32, 101194: 5, 166732: 12, 166733: 12, 166734: 12, 101206: 22, 101207: 22, 35676: 6, 166750: 21, 199531: 5, 68473: 1, 199549: 0, 35715: 22, 35717: 22, 199602: 22, 134074: 22, 134075: 22, 265158: 3, 265159: 18, 101330: 8, 265170: 26, 101334: 8, 297949: 1, 134121: 9, 101354: 8, 330756: 1, 134151: 4, 68627: 33, 134166: 2, 134168: 9, 101405: 1, 199715: 6, 35897: 18, 101443: 2, 101444: 2, 101445: 2, 101446: 2, 101447: 2, 101449: 2, 265318: 21, 265319: 21, 199786: 8, 68728: 1, 330873: 5, 330874: 5, 35966: 4, 35967: 4, 35968: 4, 35969: 4, 35970: 4, 35971: 4, 35972: 4, 68741: 3, 35973: 4, 35975: 4, 68742: 18, 298132: 2, 298133: 8, 265384: 17, 167095: 1, 167096: 1, 167097: 1, 167098: 1, 167099: 1, 167100: 1, 134342: 6, 298189: 25, 232658: 0, 232659: 0, 232660: 0, 167138: 0, 167139: 5, 134383: 3, 330997: 13, 134394: 10, 134395: 10, 134396: 10, 68884: 17, 68886: 17, 232728: 9, 265497: 2, 232760: 8, 134460: 11, 265583: 16, 3449: 22, 101761: 19, 69075: 10, 69076: 10, 69077: 10, 69078: 10, 69079: 10, 69080: 10, 36326: 12, 134633: 13, 167403: 14, 232940: 16, 167410: 20, 167411: 20, 167412: 20, 167414: 20, 200202: 27, 200203: 27, 134685: 1, 36400: 1, 233010: 21, 200243: 6, 200244: 6, 134710: 22, 134711: 22, 134712: 22, 134713: 22, 134714: 22, 200246: 6, 69182: 4, 298562: 5, 331332: 8, 36434: 5, 69208: 6, 364126: 14, 200290: 0, 101987: 0, 101988: 0, 101989: 20, 101990: 0, 36453: 12, 167533: 8, 167534: 8, 167535: 8, 167536: 8, 200313: 11, 102024: 9, 102025: 8, 102026: 8, 102027: 8, 3747: 31, 3751: 31, 102067: 8, 102068: 8, 102069: 8, 102070: 8, 102071: 8, 102072: 8, 102073: 8, 102074: 8, 200382: 0, 200383: 0, 102083: 1, 265931: 1, 102094: 12, 102095: 12, 102096: 12, 102097: 12, 102098: 12, 102099: 12, 102100: 12, 102101: 12, 298726: 0, 298727: 14, 102147: 6, 102148: 6, 102149: 6, 102151: 6, 102153: 17, 102154: 17, 102155: 17, 102156: 17, 102157: 17, 102158: 17, 102159: 17, 102160: 17, 331536: 19, 102161: 8, 134924: 12, 102170: 0, 102171: 0, 266026: 3, 134986: 3, 134987: 3, 69454: 32, 69455: 32, 69456: 32, 69457: 32, 69458: 32, 167765: 3, 167766: 3, 331618: 0, 135023: 17, 135024: 17, 135025: 17, 135026: 17, 135027: 17, 135028: 17, 233345: 8, 135047: 12, 200600: 12, 69534: 24, 167852: 0, 167853: 0, 167854: 5, 102338: 6, 200659: 1, 36823: 0, 298978: 8, 364514: 22, 167913: 23, 167916: 29, 135149: 8, 135150: 1, 167918: 18, 135151: 20, 135152: 8, 135153: 14, 36845: 18, 167917: 18, 36876: 22, 167993: 1, 167994: 1, 102458: 3, 102457: 3, 69709: 1, 102478: 4, 102479: 3, 102480: 4, 168029: 1, 168030: 1, 168040: 7, 331896: 5, 102520: 6, 299136: 13, 102528: 0, 168068: 18, 168069: 18, 168070: 18, 168071: 16, 168072: 8, 168073: 8, 37029: 1, 233638: 8, 200880: 3, 168132: 20, 168133: 20, 168134: 20, 37063: 24, 299206: 8, 37064: 24, 102608: 3, 102609: 3, 69842: 21, 69843: 21, 69844: 21, 102613: 12, 200917: 11, 299227: 24, 200926: 8, 233706: 0, 135417: 1, 69900: 21, 69903: 21, 135440: 1, 135441: 1, 200978: 12, 135442: 1, 135443: 1, 168213: 17, 233750: 26, 135444: 1, 168222: 8, 266527: 1, 266526: 1, 266528: 1, 102692: 19, 102693: 19, 233769: 1, 69930: 1, 37168: 3, 168241: 0, 135474: 0, 135475: 0, 135476: 0, 135477: 0, 135478: 0, 135479: 0, 168247: 5, 37172: 29, 37173: 29, 168267: 14, 168268: 14, 168271: 14, 299345: 17, 4455: 1, 364909: 5, 233866: 1, 233867: 1, 233869: 13, 70064: 13, 70065: 13, 70066: 13, 70067: 13, 168370: 7, 70069: 13, 70068: 13, 70070: 13, 70071: 13, 37305: 17, 266701: 14, 70103: 6, 70109: 0, 266719: 30, 266720: 30, 201185: 8, 201186: 8, 37349: 1, 37350: 1, 37351: 1, 37352: 1, 37353: 1, 37354: 1, 37355: 1, 37356: 1, 102900: 20, 102901: 20, 102902: 20, 102903: 20, 102904: 20, 102905: 20, 168442: 8, 102907: 20, 102906: 20, 102908: 20, 168441: 4, 332289: 8, 70146: 0, 37382: 4, 37383: 4, 37384: 4, 37385: 4, 37386: 4, 37387: 4, 37388: 4, 37389: 26, 70172: 18, 37422: 12, 37423: 12, 135726: 20, 37425: 12, 135730: 0, 135728: 20, 37424: 12, 70225: 5, 266849: 16, 103018: 16, 37483: 32, 37485: 12, 37486: 12, 37487: 12, 37488: 12, 201331: 9, 135805: 21, 135813: 6, 70282: 10, 201361: 4, 299668: 14, 299670: 14, 135842: 18, 266930: 0, 70323: 10, 70324: 10, 70325: 10, 266966: 31, 332505: 1, 234215: 5, 234216: 5, 135913: 17, 234217: 5, 234218: 5, 234219: 5, 135912: 17, 135914: 17, 266986: 28, 37616: 21, 168695: 24, 168696: 24, 168697: 24, 168698: 24, 267004: 6, 267005: 6, 267006: 6, 267007: 6, 37644: 29, 168738: 8, 135990: 17, 135991: 17, 37693: 5, 136018: 21, 168806: 18, 234370: 0, 234371: 0, 234372: 0, 70546: 4, 234391: 14, 103322: 10, 136121: 8, 136122: 8, 136123: 8, 234428: 8, 136125: 8, 234429: 8, 234430: 8, 234431: 8, 234432: 8, 168903: 1, 168904: 1, 168906: 1, 136143: 12, 70619: 21, 70620: 21, 70621: 21, 70622: 21, 70623: 21, 70624: 21, 70625: 21, 103399: 22, 168950: 7, 234493: 1, 168959: 1, 168960: 1, 70673: 18, 70674: 18, 234513: 5, 70675: 18, 168981: 28, 70676: 18, 70712: 33, 37962: 5, 37964: 5, 169041: 11, 136291: 10, 136293: 10, 136294: 10, 300139: 24, 300140: 24, 300141: 24, 267374: 20, 234607: 8, 267375: 20, 300142: 24, 70778: 1, 169093: 8, 169094: 8, 169096: 8, 201865: 8, 234639: 18, 136354: 1, 136360: 3, 103593: 8, 169144: 0, 300216: 0, 169153: 11, 267462: 16, 136399: 17, 70867: 22, 70868: 22, 70869: 22, 70870: 22, 267489: 8, 267490: 0, 201958: 18, 169200: 17, 169201: 14, 103666: 1, 103667: 1, 169204: 7, 103668: 1, 103669: 1, 201979: 24, 70919: 2, 70920: 2, 70921: 12, 38166: 27, 38170: 27, 38176: 3, 38177: 3, 234785: 16, 38178: 23, 38179: 3, 136491: 18, 136492: 18, 169292: 3, 169293: 3, 169294: 3, 169295: 3, 136528: 18, 136529: 18, 169296: 3, 234840: 16, 234841: 16, 38246: 0, 38247: 5, 103787: 0, 136558: 8, 234873: 14, 267644: 0, 267645: 0, 234892: 16, 234893: 8, 234894: 16, 71058: 31, 71059: 31, 71060: 31, 234903: 14, 71064: 31, 136618: 6, 103873: 8, 103874: 8, 103875: 8, 5614: 15, 5615: 15, 300528: 8, 5616: 15, 234995: 1, 136732: 21, 103966: 2, 103968: 2, 202292: 22, 136782: 8, 38491: 18, 38493: 18, 38494: 18, 202355: 1, 169595: 12, 104072: 3, 104073: 3, 104074: 3, 104085: 22, 202408: 17, 202409: 17, 202410: 17, 136889: 22, 136890: 22, 169667: 7, 71373: 18, 71375: 18, 267985: 0, 169686: 34, 169687: 34, 169688: 34, 169689: 34, 169690: 34, 169691: 34, 169692: 34, 169693: 34, 169694: 34, 169695: 34, 5858: 1, 71395: 31, 71394: 31, 71396: 31, 71397: 31, 136933: 7, 169719: 16, 268034: 1, 268035: 1, 268036: 1, 268037: 1, 136978: 3, 235282: 25, 38687: 18, 38688: 18, 5936: 1, 235327: 1, 71493: 12, 71494: 12, 202568: 0, 202570: 0, 202572: 0, 104270: 22, 235348: 5, 235349: 5, 235350: 5, 38758: 1, 38759: 1, 169842: 2, 169843: 5, 137075: 9, 137076: 9, 137077: 9, 137078: 9, 137079: 9, 137080: 9, 202618: 1, 202619: 1, 137081: 9, 71543: 4, 202617: 1, 71566: 31, 71567: 31, 71568: 31, 71569: 31, 71570: 31, 202644: 14, 71585: 18, 71586: 12, 71587: 12, 71588: 12, 169893: 8, 71589: 12, 104358: 3, 71595: 22, 300974: 8, 169909: 4, 169910: 4, 169911: 4, 169912: 4, 169913: 4, 169914: 4, 268217: 8, 137147: 18, 137148: 18, 104384: 0, 38857: 29, 137163: 25, 104407: 9, 104408: 9, 235482: 0, 71652: 21, 71653: 21, 71654: 21, 235495: 8, 71655: 21, 71657: 21, 71656: 21, 71659: 21, 301043: 14, 235517: 5, 202749: 1, 169987: 1, 6155: 12, 268319: 21, 268320: 21, 170024: 1, 170025: 1, 6187: 12, 6191: 1, 6197: 33, 38981: 12, 71750: 21, 71751: 21, 38982: 12, 235589: 3, 235596: 28, 39022: 24, 39023: 21, 39024: 24, 39025: 12, 39026: 12, 202863: 1, 202864: 1, 104587: 10, 71822: 12, 71823: 5, 202899: 16, 71832: 12, 71833: 12, 235677: 11, 235678: 5, 235692: 8, 202932: 0, 334013: 13, 71879: 7, 71880: 7, 71881: 7, 71882: 7, 71886: 21, 71892: 8, 71893: 0, 202971: 16, 202972: 8, 71901: 21, 170204: 0, 170205: 0, 170206: 0, 170207: 0, 170208: 0, 170209: 0, 170210: 16, 170219: 5, 39156: 18, 39157: 18, 39158: 18, 268553: 8, 268554: 8, 268555: 8, 71948: 22, 104718: 2, 235793: 5, 39186: 31, 235794: 5, 235796: 5, 235795: 5, 203036: 11, 235842: 1, 137544: 14, 104793: 20, 104796: 20, 39274: 25, 39305: 6, 268689: 16, 170388: 1, 137671: 11, 137672: 11, 235989: 8, 334334: 8, 39424: 31, 72193: 3, 236033: 1, 72195: 3, 236034: 1, 236035: 1, 301574: 12, 236036: 1, 236037: 24, 236038: 24, 236039: 24, 236040: 24, 334347: 5, 72197: 3, 39439: 12, 72210: 6, 203282: 16, 104979: 12, 203311: 7, 39480: 22, 39481: 0, 39482: 22, 39483: 22, 170556: 21, 39484: 22, 39485: 22, 39486: 22, 170557: 21, 137799: 16, 137800: 1, 137801: 1, 137802: 16, 137803: 1, 268875: 16, 236104: 8, 105046: 18, 170594: 8, 72304: 22, 72305: 22, 72306: 22, 72307: 22, 105080: 6, 105081: 6, 105082: 6, 105083: 6, 105084: 6, 105085: 6, 105086: 6, 105087: 17, 105088: 6, 72330: 17, 72331: 8, 301713: 12, 137874: 17, 137890: 4, 39593: 0, 39618: 8, 39627: 29, 137933: 17, 170708: 0, 170709: 21, 170710: 8, 170711: 5, 72447: 0, 105220: 16, 105221: 16, 105222: 16, 105223: 8, 105224: 8, 138001: 10, 138003: 10, 138004: 10, 138005: 10, 138006: 10, 203544: 5, 170777: 14, 170800: 8, 170816: 1, 170819: 17, 170820: 9, 170821: 9, 170822: 3, 170823: 21, 170827: 14, 170831: 14, 203612: 8, 203613: 8, 203614: 8, 72546: 12, 72547: 12, 138084: 11, 72548: 12, 334723: 1, 334724: 1, 334725: 1, 39812: 10, 138140: 17, 138141: 8, 236461: 8, 236462: 8, 72644: 4, 39904: 6, 170984: 25, 170985: 25, 203763: 1, 203764: 1, 72692: 16, 302070: 0, 302071: 0, 302072: 0, 302073: 0, 302076: 5, 72707: 24, 72708: 24, 72709: 11, 72710: 24, 72711: 24, 302088: 33, 203804: 0, 72743: 5, 171051: 0, 7226: 22, 7237: 12, 7238: 1, 7239: 1, 7241: 1, 7243: 1, 7247: 1, 236636: 6, 236637: 6, 72808: 27, 72834: 29, 72835: 29, 138371: 16, 302213: 6, 367756: 0, 40081: 18, 40082: 18, 40083: 18, 40084: 18, 40085: 6, 40086: 18, 7343: 1, 269489: 5, 7346: 3, 72893: 19, 335038: 5, 335039: 5, 72895: 19, 72897: 19, 72894: 19, 72898: 19, 72900: 19, 72899: 19, 72901: 19, 72896: 19, 72908: 12, 72909: 12, 72910: 12, 72911: 12, 72912: 12, 171228: 20, 269540: 30, 269541: 30, 204009: 12, 269554: 1, 105718: 19, 236817: 26, 204068: 12, 73014: 7, 204091: 8, 204092: 8, 40266: 1, 171351: 8, 236891: 0, 236892: 0, 204128: 0, 138596: 25, 171364: 13, 138597: 25, 138621: 0, 138622: 0, 138623: 0, 138625: 0, 138626: 0, 105862: 13, 236951: 8, 236952: 8, 236953: 8, 171417: 17, 269735: 3, 302545: 29, 302569: 19, 302570: 19, 302571: 19, 73194: 17, 237042: 0, 105971: 3, 105973: 3, 138755: 0, 138756: 0, 138757: 0, 138758: 8, 138759: 0, 138760: 0, 40477: 21, 302624: 0, 138799: 0, 106038: 6, 237111: 22, 106039: 6, 237113: 0, 106040: 6, 106041: 6, 106042: 6, 106043: 6, 138832: 18, 138833: 18, 138835: 18, 138836: 18, 204393: 1, 138870: 16, 138871: 16, 138872: 16, 335485: 8, 7857: 22, 204466: 5, 7859: 28, 138954: 8, 138955: 14, 138956: 8, 138957: 9, 138958: 8, 138959: 8, 138960: 8, 302801: 26, 138962: 8, 138963: 8, 302802: 26, 204501: 1, 138971: 2, 138972: 2, 138973: 2, 138974: 2, 237283: 19, 237284: 19, 171749: 0, 171750: 14, 171751: 14, 171765: 10, 171766: 10, 106240: 6, 139042: 17, 139043: 8, 139044: 8, 139045: 8, 335662: 5, 139075: 3, 139076: 3, 139077: 3, 139079: 3, 106312: 32, 171850: 34, 204622: 5, 204623: 5, 171857: 20, 171858: 20, 106324: 28, 139092: 13, 139095: 19, 139096: 19, 139097: 19, 139098: 19, 139099: 19, 139100: 19, 139110: 30, 237418: 24, 302980: 5, 8071: 28, 8073: 28, 106379: 0, 8076: 14, 106383: 17, 106390: 22, 106391: 22, 139167: 4, 237490: 8, 106429: 35, 270270: 20, 171982: 8, 171983: 8, 171986: 1, 73709: 1, 73710: 1, 73711: 1, 73713: 1, 172021: 8, 270325: 5, 204792: 18, 204803: 8, 73737: 25, 73738: 25, 139277: 0, 139278: 0, 139279: 0, 139280: 0, 139282: 0, 237598: 1, 139295: 12, 237599: 1, 40997: 29, 41001: 29, 204844: 1, 204845: 1, 139332: 16, 139333: 0, 139334: 8, 139335: 8, 139336: 16, 73801: 18, 368708: 13, 73803: 18, 368709: 13, 41037: 22, 368710: 13, 73808: 18, 139371: 16, 139372: 16, 139373: 16, 139377: 16, 8312: 15, 41081: 35, 8313: 15, 8315: 15, 204924: 8, 204925: 8, 204926: 0, 8319: 15, 106619: 11, 139392: 4, 139394: 16, 139395: 8, 106639: 18, 106641: 18, 237728: 5, 237729: 33, 172198: 0, 270523: 21, 41149: 18, 41150: 18, 41151: 18, 41152: 18, 139462: 11, 73945: 12, 106724: 6, 73957: 7, 73958: 12, 73959: 7, 73960: 12, 8426: 1, 237830: 1, 106776: 20, 74021: 4, 205095: 4, 205128: 8, 205130: 8, 205131: 8, 74073: 12, 74075: 22, 74076: 12, 74078: 12, 205154: 19, 8547: 12, 205155: 1, 205156: 1, 139630: 14, 205192: 5, 205193: 5, 205194: 5, 41352: 33, 205232: 17, 41407: 12, 74210: 3, 74212: 3, 270821: 16, 270822: 16, 107016: 26, 41491: 25, 41492: 25, 172578: 8, 107043: 7, 107044: 1, 107045: 4, 172581: 0, 172583: 0, 172582: 0, 74278: 5, 74288: 5, 74292: 5, 107061: 25, 74297: 5, 107080: 1, 107081: 16, 107082: 1, 107083: 1, 107084: 1, 107085: 1, 107086: 16, 107087: 16, 107088: 1, 336467: 8, 139864: 5, 139866: 14, 139867: 5, 139903: 0, 139905: 12, 139906: 12, 139907: 12, 139908: 12, 139909: 12, 139910: 12, 41610: 4, 205451: 16, 41612: 4, 41611: 4, 41613: 4, 41614: 4, 238218: 14, 41627: 13, 107165: 25, 107166: 25, 107167: 25, 107168: 25, 107169: 25, 41643: 35, 172736: 26, 172737: 26, 172738: 22, 172739: 26, 271055: 16, 8934: 1, 8937: 1, 303856: 2, 303857: 2, 303858: 2, 303859: 2, 303860: 2, 8953: 29, 74503: 24, 74504: 24, 74505: 24, 74506: 24, 74507: 24, 74508: 24, 74509: 24, 271119: 16, 271120: 16, 271121: 16, 271135: 24, 9001: 1, 9003: 1, 9004: 1, 107309: 23, 107324: 17, 107325: 17, 107326: 17, 140094: 5, 74572: 0, 41807: 15, 140130: 14, 140131: 14, 140132: 14, 140133: 14, 140134: 14, 140135: 14, 9067: 12, 205676: 24, 140150: 8, 9079: 1, 9081: 1, 140155: 8, 41855: 1, 172940: 0, 172941: 0, 41894: 1, 172968: 1, 74669: 12, 140218: 4, 140219: 4, 271296: 16, 74700: 11, 140243: 0, 205806: 8, 173039: 6, 205807: 8, 107537: 17, 173079: 14, 173083: 0, 205856: 8, 205857: 14, 107589: 12, 107590: 12, 140363: 17, 140364: 17, 140365: 17, 140366: 17, 140367: 17, 205904: 9, 140369: 21, 304210: 13, 271451: 4, 140415: 5, 140416: 16, 74902: 23, 74903: 23, 74904: 23, 205976: 8, 140446: 4, 140447: 4, 140448: 4, 140449: 4, 140466: 1, 107735: 18, 42203: 4, 42205: 4, 42220: 5, 107760: 32, 107761: 32, 107762: 32, 107763: 32, 107764: 32, 107765: 32, 74998: 22, 107766: 32, 206072: 8, 107767: 32, 140542: 7, 140543: 7, 140544: 7, 173317: 22, 271622: 14, 140565: 19, 206109: 0, 238900: 8, 337227: 0, 238949: 5, 238950: 5, 206195: 16, 140660: 1, 42358: 22, 75138: 21, 140676: 5, 173455: 0, 206223: 16, 107925: 12, 107926: 12, 107927: 12, 9625: 26, 107936: 3, 206306: 5, 206307: 5, 206308: 5, 206309: 5, 206310: 5, 239077: 8, 108005: 24, 108006: 24, 108008: 24, 108007: 24, 206335: 8, 140800: 11, 140801: 11, 9746: 32, 75322: 18, 9812: 15, 108135: 16, 239218: 11, 75384: 25, 206482: 0, 206483: 8, 337563: 4, 337564: 1, 337565: 4, 206501: 4, 206502: 4, 206503: 4, 140984: 6, 140985: 6, 140986: 6, 140987: 6, 140988: 6, 108252: 8, 108257: 16, 108259: 3, 108260: 3, 108261: 33, 108262: 20, 173807: 1, 173815: 0, 173820: 0, 173822: 0, 141057: 17, 141058: 3, 141059: 14, 108292: 9, 304901: 1, 304902: 1, 108293: 9, 206601: 9, 108314: 1, 304937: 0, 42824: 23, 141149: 0, 272224: 1, 305013: 21, 75682: 18, 173990: 24, 239545: 24, 108475: 20, 42946: 14, 42949: 0, 108487: 18, 272331: 19, 141269: 25, 141270: 25, 305177: 8, 305180: 8, 43088: 1, 10346: 1, 305269: 1, 43136: 2, 75908: 22, 305291: 1, 75916: 16, 206989: 8, 75917: 2, 207004: 16, 207005: 16, 10410: 29, 43192: 4, 43193: 4, 43194: 4, 43195: 4, 43196: 4, 43197: 4, 43198: 4, 141500: 1, 43200: 4, 43199: 4, 239817: 4, 108748: 22, 174300: 14, 174301: 14, 207092: 1, 174327: 11, 174328: 11, 141574: 1, 141575: 1, 141576: 1, 76047: 4, 76048: 4, 76049: 4, 10517: 29, 10518: 29, 43289: 4, 43290: 4, 43291: 4, 10524: 29, 43292: 4, 43293: 4, 223530: 17, 305455: 0, 305469: 0, 76096: 25, 43337: 6, 43338: 6, 43339: 6, 43340: 6, 43341: 6, 43342: 18, 43343: 6, 43353: 18, 43354: 18, 43358: 18, 43364: 1, 239973: 20, 108907: 19, 108908: 19, 108909: 19, 108910: 19, 108911: 19, 108912: 19, 108913: 19, 207228: 5, 108946: 4, 108947: 4, 108948: 4, 108949: 4, 141719: 13, 272812: 8, 305587: 21, 43450: 17, 43452: 17, 43453: 6, 43454: 17, 174545: 0, 174546: 0, 207319: 0, 207320: 0, 207321: 0, 76248: 11, 132388: 0, 76254: 11, 109030: 0, 109033: 0, 109036: 9, 272883: 8, 272884: 8, 174594: 32, 240138: 8, 141885: 20, 207432: 0, 207438: 0, 207441: 3, 109139: 19, 76376: 12, 240220: 16, 273003: 8, 43692: 3, 305862: 22, 240326: 24, 43733: 26, 43734: 26, 43735: 26, 109272: 25, 43736: 26, 109274: 22, 109275: 22, 109276: 22, 109277: 22, 109278: 22, 109279: 22, 43737: 26, 43738: 26, 43739: 26, 43740: 26, 305899: 17, 10994: 1, 10996: 1, 11000: 1, 76552: 8, 76553: 8, 43796: 4, 109367: 18, 109368: 18, 109369: 18, 142144: 22, 142145: 22, 142146: 11, 240456: 8, 207704: 5, 240484: 0, 240485: 0, 174957: 5, 207740: 3, 142215: 14, 142216: 14, 142217: 14, 142218: 14, 142219: 16, 142220: 14, 142222: 14, 142223: 14, 43919: 7, 174996: 8, 174997: 8, 11159: 1, 142240: 16, 142241: 16, 43947: 12, 76732: 19, 76733: 19, 76734: 19, 76735: 19, 76736: 19, 76737: 19, 76738: 19, 76739: 19, 76740: 19, 175043: 0, 76741: 19, 109511: 4, 109512: 4, 109513: 4, 207811: 1, 207844: 16, 44018: 0, 175109: 0, 175112: 9, 175113: 0, 109602: 22, 142386: 0, 142387: 0, 142388: 0, 142389: 0, 142390: 0, 142391: 0, 76853: 5, 109623: 5, 109642: 18, 109643: 18, 109648: 14, 44118: 1, 76905: 5, 76906: 5, 76907: 5, 76910: 5, 207982: 3, 306305: 1, 44165: 7, 76944: 0, 76945: 0, 76946: 14, 339093: 3, 109725: 18, 44199: 3, 273584: 30, 208052: 14, 175309: 22, 109774: 0, 109775: 0, 109776: 0, 109777: 0, 109778: 0, 273620: 24, 208096: 16, 208097: 16, 208098: 16, 77034: 21, 273661: 0, 273662: 0, 273663: 0, 306452: 20, 77128: 12, 44377: 12, 208227: 0, 109952: 21, 109953: 21, 109954: 21, 11651: 1, 11660: 3, 175511: 7, 175512: 7, 208283: 16, 77212: 12, 77213: 12, 77214: 12, 77215: 12, 142768: 0, 142769: 8, 142770: 17, 142771: 8, 142772: 5, 175542: 9, 208317: 19, 142787: 20, 208330: 6, 110032: 1, 11729: 4, 110033: 1, 110034: 1, 110036: 1, 110037: 1, 110038: 1, 110039: 1, 110035: 1, 339419: 5, 110057: 6, 110058: 6, 110060: 6, 208366: 16, 110075: 24, 175631: 12, 77339: 2, 110112: 22, 77352: 18, 241199: 22, 208440: 1, 110137: 1, 110138: 1, 110139: 1, 110140: 1, 77378: 12, 77379: 12, 77380: 12, 77381: 12, 77382: 12, 77383: 12, 142916: 14, 77398: 0, 77399: 22, 77400: 0, 142961: 0, 44658: 21, 11918: 3, 11920: 3, 110240: 3, 44707: 18, 44714: 18, 274091: 14, 77496: 2, 110272: 3, 143040: 12, 44740: 24, 44741: 24, 44743: 24, 44744: 24, 143058: 1, 44783: 1, 44784: 1, 77559: 20, 77560: 20, 110342: 20, 44809: 23, 44810: 23, 241421: 8, 208657: 8, 175919: 3, 175920: 29, 175921: 3, 175922: 29, 208692: 8, 208693: 8, 208694: 8, 208695: 8, 241484: 0, 208717: 18, 208718: 18, 143189: 3, 44887: 4, 77663: 12, 241506: 0, 143209: 12, 143210: 12, 143211: 12, 143212: 12, 176003: 22, 208778: 22, 143259: 8, 176055: 8, 176060: 8, 176061: 8, 274367: 4, 77775: 18, 143315: 6, 274388: 20, 110603: 27, 274447: 10, 208914: 8, 208921: 18, 176155: 8, 176156: 18, 176157: 0, 176158: 8, 176159: 8, 241691: 8, 143433: 0, 143435: 0, 143443: 2, 307290: 26, 208993: 5, 12392: 33, 209004: 14, 241776: 0, 143481: 5, 12429: 22, 12431: 1, 110738: 0, 110765: 3, 274646: 17, 176345: 14, 209115: 5, 176353: 5, 176364: 6, 209132: 16, 209140: 6, 209141: 6, 209142: 6, 209143: 6, 209144: 6, 209145: 0, 143625: 16, 78106: 2, 241950: 17, 241951: 17, 78118: 5, 78120: 0, 241962: 14, 241963: 14, 143659: 12, 110893: 19, 110894: 19, 110895: 19, 110896: 19, 110897: 19, 110898: 19, 12623: 29, 12624: 29, 209233: 7, 12626: 29, 12627: 29, 209234: 7, 12636: 12, 12637: 12, 12638: 12, 12639: 12, 12640: 12, 12641: 33, 12642: 12, 110948: 0, 110950: 0, 78218: 31, 110993: 3, 209301: 12, 242080: 8, 176560: 4, 143800: 3, 45515: 18, 45516: 18, 45517: 18, 143820: 11, 143822: 11, 143823: 11, 274897: 21, 78298: 8, 78299: 8, 143841: 3, 143842: 22, 143843: 24, 111087: 22, 111088: 22, 176625: 12, 143861: 8, 143864: 14, 143865: 8, 78340: 22, 242186: 14, 45586: 1, 45587: 1, 45588: 1, 45590: 1, 45591: 1, 176662: 1, 176673: 11, 78382: 33, 111167: 15, 111168: 15, 111169: 1, 143972: 21, 143973: 21, 143974: 21, 143975: 21, 209512: 20, 242283: 0, 12921: 22, 111233: 22, 111234: 22, 111235: 22, 111236: 22, 111237: 22, 78469: 5, 111239: 22, 78474: 22, 111244: 1, 111245: 1, 111246: 1, 111247: 5, 111248: 5, 12943: 29, 12945: 29, 12946: 29, 12947: 29, 12948: 29, 176792: 6, 111335: 32, 111337: 32, 111339: 32, 111340: 32, 111348: 23, 111366: 17, 111382: 7, 111383: 7, 111384: 7, 78618: 5, 45866: 12, 111420: 12, 78660: 21, 45893: 17, 45935: 12, 13167: 1, 78714: 3, 111491: 9, 144266: 5, 144274: 5, 144275: 5, 177042: 8, 78742: 12, 78743: 12, 13209: 33, 13210: 33, 78747: 12, 45980: 12, 13213: 33, 45982: 12, 13214: 33, 13216: 33, 209848: 4, 13278: 12, 144355: 14, 144356: 14, 144357: 14, 144359: 14, 242664: 8, 144360: 14, 242665: 8, 144363: 2, 144364: 2, 144367: 1, 144368: 1, 144369: 1, 46095: 12, 46096: 12, 46097: 12, 111641: 11, 111643: 28, 111646: 14, 111649: 18, 111650: 18, 111651: 18, 111653: 18, 78886: 4, 78887: 4, 78888: 4, 209978: 14, 46141: 4, 13406: 1, 210025: 0, 111722: 12, 78955: 1, 111723: 12, 78956: 1, 78958: 1, 46199: 25, 13432: 15, 46204: 31, 144519: 6, 144520: 6, 144521: 0, 144522: 6, 275594: 0, 242840: 1, 177308: 11, 79008: 22, 46260: 10, 242873: 34, 177348: 8, 46283: 26, 242897: 5, 242898: 5, 242899: 5, 242900: 0, 242901: 0, 111832: 0, 111835: 3, 111836: 3, 111837: 3, 275679: 0, 275680: 0, 79089: 33, 46327: 17, 111868: 3, 79106: 4, 79113: 4, 177420: 10, 46361: 4, 13593: 17, 79131: 7, 13605: 25, 177465: 18, 46397: 1, 46399: 1, 46402: 1, 275800: 2, 144730: 6, 144734: 0, 46437: 29, 46438: 29, 46439: 29, 111974: 1, 111976: 1, 177510: 0, 177512: 14, 275819: 9, 111975: 1, 79220: 3, 79221: 3, 111990: 1, 177528: 14, 177529: 14, 79231: 12, 243075: 34, 79240: 24, 79241: 24, 79242: 24, 144780: 1, 144781: 1, 144782: 1, 210319: 16, 112015: 1, 144783: 1, 112013: 1, 112047: 3, 112048: 3, 210357: 1, 308683: 21, 79313: 2, 79314: 2, 79315: 2, 112087: 21, 112088: 21, 308698: 10, 308699: 10, 210399: 0, 210401: 0, 210402: 0, 13830: 6, 46602: 25, 177675: 5, 144907: 11, 46603: 25, 79382: 2, 112150: 4, 79384: 2, 112151: 4, 79386: 2, 112152: 4, 112164: 3, 112166: 3, 177705: 9, 13874: 29, 13875: 29, 13876: 29, 13877: 29, 79413: 3, 13888: 22, 13889: 22, 13890: 22, 13891: 22, 13892: 22, 13895: 22, 13897: 22, 308809: 6, 112209: 1, 112210: 1, 112211: 1, 46683: 22, 46684: 22, 79452: 10, 46686: 22, 79454: 10, 112224: 29, 144993: 14, 308835: 5, 112228: 29, 177816: 8, 112293: 8, 112294: 20, 46760: 21, 46761: 21, 46762: 21, 46763: 21, 46764: 21, 46765: 21, 243374: 11, 46766: 21, 145115: 8, 145116: 12, 177919: 14, 177920: 14, 79617: 1, 177921: 14, 309012: 10, 14100: 1, 145181: 1, 145229: 30, 145231: 30, 145232: 30, 79704: 23, 243544: 28, 46943: 6, 46944: 6, 210807: 18, 79744: 8, 79745: 8, 243611: 11, 47026: 12, 243648: 18, 178127: 18, 178128: 12, 145363: 12, 145364: 12, 210908: 5, 210909: 5, 210910: 5, 210911: 5, 79874: 12, 243718: 20, 79880: 27, 79881: 27, 79884: 27, 243747: 8, 243748: 8, 145445: 24, 243749: 8, 243750: 8, 14379: 12, 14380: 12, 14381: 12, 14382: 12, 14383: 12, 14384: 12, 145478: 5, 145479: 5, 145480: 5, 243788: 24, 243789: 24, 47182: 0, 47181: 1, 178259: 1, 178260: 1, 112723: 5, 47199: 1, 47200: 1, 47201: 1, 47202: 1, 47203: 1, 211044: 34, 47206: 6, 243817: 16, 79983: 25, 276591: 0, 79987: 25, 47231: 25, 47233: 25, 47235: 25, 178308: 18, 47243: 1, 112783: 22, 112784: 19, 112785: 19, 112786: 19, 112787: 19, 80022: 22, 374944: 1, 243882: 8, 178350: 0, 178351: 0, 80064: 19, 80065: 19, 80066: 19, 80067: 19, 14532: 1, 112846: 17, 112847: 17, 112848: 3, 112849: 8, 80084: 6, 112859: 0, 47341: 18, 145646: 1, 145647: 1, 145655: 3, 145656: 3, 145657: 3, 145658: 3, 145659: 3, 145660: 21, 80135: 12, 178445: 12, 80145: 24, 80146: 19, 145688: 16, 47391: 18, 178481: 12, 112970: 14, 112972: 14, 112973: 14, 112974: 14, 112975: 14, 47443: 1, 112981: 1, 145751: 14, 145752: 14, 145753: 14, 145755: 14, 80228: 17, 276838: 16, 80235: 18, 47486: 12, 47487: 12, 47488: 12, 47489: 12, 145812: 31, 342423: 13, 145815: 8, 211373: 6, 47547: 33, 178623: 10, 211394: 5, 113098: 17, 14800: 18, 14803: 18, 113126: 1, 113127: 1, 113128: 1, 113129: 6, 80369: 18, 80370: 18, 47621: 4, 342562: 0, 342563: 0, 277065: 8, 277066: 14, 113241: 21, 80481: 12, 244322: 16, 80482: 12, 211574: 8, 80509: 4, 80510: 4, 80511: 4, 80512: 4, 80513: 12, 80525: 5, 277138: 1, 47766: 33, 47767: 33, 47768: 33, 47769: 33, 113318: 0, 244411: 0, 146118: 4, 178900: 4, 178902: 4, 178903: 4, 178905: 17, 178906: 17, 309983: 14, 80610: 4, 80612: 8, 80615: 8, 146165: 32, 146167: 32, 146172: 23, 146173: 23, 146179: 1, 113490: 0, 179027: 8, 179028: 8, 80723: 18, 211806: 0, 211807: 0, 211808: 0, 47979: 12, 211830: 16, 211831: 16, 211832: 16, 211833: 16, 15231: 2, 179080: 18, 179081: 18, 179082: 18, 48064: 7, 113638: 1, 48111: 6, 48153: 12, 48154: 12, 15396: 15, 80940: 12, 179245: 8, 179246: 2, 179247: 2, 179248: 0, 80941: 12, 146483: 12, 146484: 12, 146485: 12, 146486: 12, 146487: 12, 146488: 12, 146497: 14, 146498: 14, 146499: 14, 146500: 14, 146503: 16, 146504: 16, 146505: 16, 146506: 16, 277582: 13, 48212: 5, 80982: 14, 80990: 3, 146526: 0, 146528: 0, 146527: 0, 146529: 0, 146531: 0, 48243: 8, 244868: 8, 244869: 8, 244870: 8, 244871: 8, 244872: 8, 244873: 8, 244874: 14, 146572: 32, 146574: 32, 48288: 18, 48289: 18, 48290: 18, 48291: 18, 48292: 18, 48293: 18, 48294: 18, 48295: 6, 48296: 18, 48297: 18, 15544: 3, 212157: 1, 113856: 25, 113857: 25, 244931: 8, 185453: 3, 146630: 3, 146659: 23, 179472: 12, 245009: 1, 48402: 25, 245011: 1, 245010: 1, 245013: 1, 245014: 1, 245012: 1, 81183: 4, 81184: 4, 212259: 14, 212260: 14, 212261: 14, 212262: 14, 81191: 1, 212263: 14, 113959: 6, 179510: 1, 179511: 1, 81208: 12, 81209: 12, 179512: 1, 179532: 8, 179535: 14, 179537: 18, 179538: 18, 277870: 5, 179573: 16, 179577: 0, 81276: 19, 81277: 27, 81278: 27, 212350: 11, 212351: 11, 212353: 11, 245126: 14, 15751: 3, 15755: 3, 277903: 16, 277904: 16, 277905: 16, 81301: 27, 81303: 27, 114076: 4, 376220: 8, 48558: 3, 146863: 8, 48559: 3, 48561: 3, 48560: 3, 48562: 3, 48563: 3, 376254: 5, 310734: 17, 15848: 12, 15849: 12, 277993: 5, 15850: 12, 15852: 12, 15851: 12, 245244: 14, 245248: 14, 146960: 14, 146961: 14, 146964: 14, 81440: 21, 81441: 21, 81442: 21, 81443: 21, 81444: 21, 147009: 8, 15950: 29, 15951: 29, 15952: 29, 15953: 29, 15954: 29, 15955: 29, 15956: 29, 212567: 5, 15961: 31, 114314: 11, 114315: 11, 114316: 13, 179851: 22, 81548: 21, 81547: 1, 16018: 18, 16019: 18, 16027: 18, 16029: 6, 376478: 5, 212653: 5, 212654: 5, 147118: 1, 147129: 12, 179901: 14, 179902: 14, 179903: 14, 179904: 14, 179906: 14, 179907: 14, 212686: 20, 212688: 20, 245474: 9, 278275: 24, 179975: 1, 179976: 1, 179977: 1, 212753: 16, 212754: 8, 179992: 4, 179997: 8, 179998: 8, 81704: 10, 81705: 10, 81706: 10, 81708: 10, 48941: 22, 48942: 12, 48943: 12, 48944: 12, 48945: 12, 278321: 12, 278322: 12, 278323: 12, 114478: 29, 245558: 17, 212795: 0, 245579: 20, 114507: 0, 212813: 8, 212814: 8, 48993: 0, 48994: 0, 48996: 0, 48999: 0, 49002: 0, 81771: 7, 81774: 7, 147328: 1, 147329: 1, 81794: 35, 245644: 0, 147362: 0, 147379: 34, 212917: 16, 147382: 10, 147383: 10, 147384: 10, 180160: 35, 180161: 35, 180162: 35, 180163: 35, 245700: 8, 212941: 30, 212942: 30, 212943: 30, 212944: 30, 212945: 30, 147407: 20, 81883: 1, 212958: 24, 180225: 5, 114709: 22, 81954: 5, 180268: 18, 311361: 8, 49224: 14, 213066: 17, 81997: 8, 344148: 0, 180317: 3, 147553: 14, 114791: 20, 147572: 1, 147573: 1, 16502: 28, 147574: 1, 245880: 20, 147592: 0, 147593: 0, 147594: 0, 245899: 8, 245900: 8, 245901: 8, 147599: 1, 147600: 1, 245905: 16, 213136: 11, 180367: 16, 245904: 18, 180387: 8, 180388: 8, 147624: 8, 147625: 8, 147626: 8, 147627: 8, 147628: 0, 147629: 0, 147630: 0, 147631: 0, 147632: 0, 147633: 0, 147634: 0, 147635: 0, 147636: 0, 147637: 0, 114870: 2, 180408: 8, 180409: 8, 147656: 18, 114889: 8, 114890: 8, 213195: 22, 147667: 1, 147668: 1, 147669: 1, 82137: 1, 16605: 15, 16606: 15, 16609: 15, 16622: 31, 49396: 35, 147706: 1, 180476: 0, 147726: 33, 180505: 8, 278821: 8, 213286: 17, 278824: 13, 278825: 13, 213299: 16, 213300: 16, 82239: 1, 82241: 1, 82242: 1, 82243: 1, 278867: 12, 49493: 1, 49494: 1, 82270: 8, 16735: 12, 16736: 12, 147806: 11, 278884: 8, 246140: 8, 246141: 0, 213377: 1, 213379: 1, 213383: 5, 82313: 5, 82315: 14, 278930: 14, 213405: 13, 213420: 19, 147897: 1, 115133: 20, 180690: 16, 180691: 16, 82400: 4, 82401: 4, 82403: 4, 82404: 4, 82405: 4, 115173: 21, 180717: 3, 311790: 3, 82419: 18, 82420: 18, 147965: 19, 180735: 4, 246273: 5, 246274: 5, 246275: 8, 147975: 11, 410140: 16, 213543: 1, 213544: 1, 180813: 8, 180814: 2, 246355: 9, 180823: 14, 82537: 9, 246380: 35, 246381: 20, 246382: 8, 213613: 21, 213614: 21, 115314: 22, 115315: 10, 115317: 10, 148093: 32, 246397: 0, 82558: 9, 246398: 19, 49816: 6, 148122: 10, 148123: 10, 49819: 6, 148124: 10, 148125: 10, 213677: 8, 49839: 17, 49840: 8, 148161: 4, 148168: 34, 82656: 2, 312037: 1, 246504: 5, 246505: 5, 115434: 1, 115435: 1, 246508: 14, 115436: 1, 115438: 1, 115439: 1, 115437: 1, 115441: 1, 213746: 35, 246506: 5, 246507: 5, 213766: 14, 213768: 18, 148262: 1, 148263: 1, 181030: 0, 181031: 0, 181034: 0, 181032: 0, 181033: 14, 279337: 21, 148264: 1, 181052: 21, 49984: 6, 148299: 8, 148301: 8, 148302: 8, 213842: 5, 213843: 5, 213844: 5, 279379: 5, 279380: 5, 50008: 8, 115549: 0, 115550: 15, 115551: 0, 279425: 5, 279426: 5, 279427: 5, 377752: 8, 148379: 20, 148380: 20, 148385: 5, 246721: 22, 148421: 1, 312314: 0, 312315: 0, 115722: 18, 214031: 12, 214032: 12, 17440: 1, 17454: 12, 214063: 1, 17462: 23, 377916: 0, 50245: 4, 115784: 4, 115785: 4, 17514: 12, 17515: 22, 181356: 35, 115827: 14, 115835: 18, 377983: 8, 50312: 12, 214154: 13, 214155: 13, 214156: 13, 214157: 13, 214158: 13, 214159: 13, 148627: 19, 17571: 25, 279718: 0, 115888: 9, 115889: 8, 115890: 8, 115891: 9, 115892: 14, 50360: 18, 115920: 20, 181494: 16, 181495: 16, 148729: 8, 148730: 8, 148731: 8, 148732: 8, 50429: 12, 148738: 4, 115970: 8, 115971: 8, 148739: 4, 279816: 14, 148767: 11, 83232: 3, 83233: 3, 83234: 3, 83235: 3, 83236: 3, 83237: 3, 83238: 3, 181543: 8, 148772: 17, 181545: 14, 148784: 20, 148785: 20, 148786: 20, 148787: 20, 50483: 27, 50484: 27, 116028: 1, 116029: 1, 83276: 5, 83277: 5, 181598: 0, 181600: 0, 83311: 18, 116082: 20, 116084: 20, 116085: 20, 116086: 20, 116087: 20, 116088: 20, 116089: 20, 50551: 13, 148891: 8, 279964: 8, 279965: 8, 50590: 1, 279966: 8, 17826: 4, 116134: 19, 17858: 29, 17859: 29, 17860: 29, 17861: 29, 214469: 30, 83405: 8, 83406: 8, 83407: 31, 83408: 8, 83409: 8, 83410: 8, 83411: 8, 83412: 8, 83413: 8, 181719: 0, 181728: 0, 116197: 29, 148986: 21, 280061: 0, 280062: 0, 280063: 0, 280064: 0, 17924: 29, 17925: 29, 116231: 10, 83487: 5, 50720: 6, 83516: 2, 83523: 1, 83524: 1, 345675: 19, 345676: 19, 214613: 1, 214614: 1, 214624: 10, 116321: 17, 247429: 26, 214677: 1, 247447: 18, 247448: 18, 214690: 16, 247458: 0, 181924: 12, 181925: 12, 149162: 8, 83627: 1, 149164: 8, 149165: 8, 149163: 8, 149167: 8, 149168: 8, 214712: 14, 214715: 0, 214716: 0, 50876: 29, 50877: 29, 50878: 29, 50879: 29, 181953: 0, 50880: 29, 50881: 29, 18120: 4, 181963: 17, 181964: 17, 181965: 17, 181966: 16, 181967: 20, 181968: 16, 280277: 0, 149217: 9, 116465: 14, 50941: 12, 83720: 12, 83721: 12, 83722: 12, 83723: 12, 83724: 18, 116494: 28, 247572: 5, 345883: 0, 149298: 30, 149299: 8, 149300: 0, 149301: 0, 83764: 3, 83765: 3, 83768: 3, 83766: 3, 83762: 3, 83780: 25, 247634: 19, 149338: 14, 149339: 14, 149340: 14, 182109: 0, 149342: 14, 149341: 14, 149350: 11, 83819: 2, 83820: 2, 83822: 2, 83823: 2, 83825: 2, 149380: 21, 83847: 32, 149404: 1, 247713: 9, 149414: 5, 83899: 6, 18366: 1, 18367: 1, 18380: 32, 18383: 32, 51179: 2, 280556: 5, 280557: 14, 280558: 5, 280559: 22, 51193: 18, 51194: 18, 215035: 1, 51195: 18, 83966: 12, 83967: 12, 83968: 12, 149506: 7, 215044: 8, 215045: 0, 215046: 5, 51209: 12, 83982: 0, 83983: 0, 83985: 12, 83989: 4, 116761: 4, 116762: 4, 116763: 12, 116764: 4, 378908: 5, 247849: 6, 18534: 33, 18535: 33, 18536: 33, 51305: 27, 51307: 27, 18539: 33, 51310: 27, 313497: 7, 313498: 7, 313499: 5, 313500: 5, 313501: 22, 215210: 14, 18609: 12, 18610: 12, 18611: 12, 18612: 12, 18613: 12, 18614: 12, 18615: 12, 280763: 5, 116931: 12, 18629: 1, 84181: 12, 149722: 22, 215270: 4, 280809: 14, 149743: 29, 149746: 29, 149747: 29, 149748: 29, 149749: 29, 84214: 2, 84215: 2, 248050: 13, 215296: 5, 182545: 8, 117011: 12, 117012: 12, 149784: 9, 51481: 12, 51482: 12, 280857: 19, 51484: 12, 280858: 19, 51486: 12, 248104: 24, 117048: 12, 215361: 6, 215362: 6, 215363: 6, 215364: 6, 215365: 6, 51561: 18, 51562: 18, 51563: 18, 51564: 18, 51565: 18, 51566: 18, 51567: 18, 84337: 10, 117130: 14, 117131: 14, 117132: 14, 149902: 14, 149903: 14, 149904: 14, 149905: 14, 149906: 14, 149907: 14, 117151: 17, 84387: 1, 84388: 1, 84389: 1, 51621: 27, 51623: 27, 84392: 18, 51622: 27, 51625: 27, 51626: 27, 51627: 27, 51629: 23, 51630: 23, 215470: 30, 215472: 5, 51624: 27, 215488: 5, 215517: 16, 149991: 3, 149994: 18, 84464: 3, 84465: 3, 84467: 3, 84468: 3, 117241: 3, 18941: 28, 18942: 28, 215551: 24, 215552: 24, 215553: 24, 215554: 24, 18943: 17, 18944: 28, 18949: 28, 215557: 24, 18946: 28, 18947: 28, 18948: 28, 18945: 28, 281102: 8, 51733: 29, 51737: 12, 182811: 1, 215597: 6, 51799: 4, 248441: 0, 182914: 1, 182934: 11, 51871: 8, 314016: 14, 51874: 8, 150186: 1, 117426: 8, 117427: 8, 117428: 8, 117429: 8, 150206: 9, 150207: 0, 150208: 3, 182991: 0, 19163: 29, 248542: 14, 19173: 12, 19174: 1, 19175: 12, 19176: 1, 19177: 12, 281334: 5, 281335: 9, 150273: 3, 150274: 3, 150275: 3, 51970: 2, 314119: 9, 150281: 21, 84748: 12, 84761: 6, 117534: 1, 117536: 1, 117541: 12, 84775: 1, 183096: 16, 281414: 1, 183111: 14, 281416: 1, 215882: 0, 117579: 0, 84810: 3, 215885: 0, 314186: 1, 248658: 19, 215904: 35, 215905: 35, 215906: 35, 215907: 35, 215908: 35, 281445: 5, 215909: 35, 52085: 22, 52086: 22, 52087: 22, 52088: 22, 52089: 22, 215930: 12, 52090: 22, 52092: 22, 19325: 12, 19324: 12, 19327: 12, 52091: 22, 117624: 1, 150426: 21, 150427: 21, 150428: 21, 117672: 18, 117673: 18, 183220: 12, 150455: 16, 117688: 28, 150456: 0, 117687: 28, 117691: 0, 84937: 19, 248789: 0, 19419: 12, 52197: 19, 19441: 7, 150535: 21, 117782: 23, 117800: 3, 117801: 3, 85037: 3, 248878: 8, 248879: 8, 216113: 35, 85054: 11, 85055: 11, 85057: 11, 85060: 11, 85068: 3, 117883: 12, 52362: 25, 19644: 4, 19645: 4, 19647: 4, 19648: 4, 183508: 21, 183530: 1, 183531: 1, 183534: 4, 85245: 9, 85246: 21, 85247: 0, 85248: 9, 183562: 11, 314640: 17, 118046: 5, 118047: 5, 118048: 5, 249143: 14, 150851: 3, 19789: 8, 85336: 18, 85340: 18, 150881: 29, 183656: 4, 183657: 4, 183658: 4, 183659: 4, 183663: 8, 19829: 29, 19830: 29, 216457: 14, 216458: 14, 183691: 1, 118183: 8, 118184: 8, 118185: 8, 118186: 17, 118187: 16, 118188: 9, 118189: 8, 118190: 8, 85460: 21, 249308: 33, 151006: 16, 118243: 12, 118244: 12, 151025: 22, 118264: 14, 118265: 14, 249365: 1, 249366: 1, 249367: 1, 216599: 16, 151063: 8, 151065: 8, 249370: 25, 85545: 17, 85546: 0, 20017: 31, 20018: 18, 216641: 0, 85584: 8, 85585: 8, 85588: 0, 282197: 1, 347733: 5, 347734: 5, 347735: 5, 85589: 8, 216669: 8, 216670: 8, 216671: 1, 20073: 22, 20075: 22, 20081: 22, 151158: 13, 183950: 22, 118415: 3, 118416: 3, 118418: 3, 216725: 9, 85655: 18, 85665: 9, 85666: 9, 85667: 9, 85668: 9, 85669: 9, 85670: 9, 85671: 9, 85672: 9, 85673: 9, 183977: 0, 85693: 24, 85694: 3, 216768: 5, 216773: 1, 151246: 8, 20176: 6, 20182: 22, 216795: 22, 282336: 1, 53000: 10, 53001: 10, 249620: 26, 380704: 0, 118572: 23, 20268: 33, 216878: 14, 216879: 14, 216886: 14, 53099: 3, 118641: 25, 184183: 5, 184184: 5, 282492: 13, 282493: 13, 282494: 13, 282495: 13, 282496: 13, 282497: 13, 184197: 8, 184198: 8, 282511: 5, 216975: 4, 184212: 7, 85908: 19, 118678: 19, 151453: 17, 151454: 10, 151455: 17, 118701: 21, 217007: 8, 184242: 12, 184243: 1, 184279: 17, 348138: 1, 53234: 6, 151542: 22, 151543: 22, 86008: 25, 86009: 25, 86013: 25, 53249: 27, 53250: 27, 53251: 27, 380932: 24, 53252: 27, 53253: 27, 217099: 0, 217100: 0, 282638: 20, 151566: 16, 217112: 16, 217113: 16, 217114: 16, 217115: 16, 217116: 16, 217117: 16, 151610: 8, 249920: 1, 151619: 17, 86100: 17, 184414: 8, 151646: 5, 53344: 18, 53345: 22, 53346: 32, 53347: 32, 53348: 22, 53349: 22, 53350: 8, 184423: 22, 53351: 22, 184422: 22, 184426: 22, 184424: 22, 184425: 22, 217203: 11, 282739: 16, 86131: 29, 151675: 0, 151682: 34, 151683: 34, 151684: 34, 151685: 34, 151686: 34, 151688: 34, 282771: 18, 86167: 22, 184487: 4, 20669: 33, 20670: 33, 20671: 33, 250048: 1, 20672: 33, 20673: 33, 315606: 14, 119009: 18, 250090: 12, 184570: 16, 184577: 2, 250116: 8, 20770: 31, 20771: 31, 20772: 31, 20775: 31, 20776: 31, 86317: 3, 86318: 3, 86319: 6, 184632: 18, 20797: 22, 315721: 21, 119127: 3, 184667: 14, 184668: 14, 184669: 14, 184670: 1, 53601: 18, 53603: 18, 151909: 10, 184713: 1, 184715: 1, 151962: 12, 151963: 12, 283036: 0, 86430: 0, 119207: 16, 250280: 1, 119208: 17, 217517: 14, 217518: 14, 151983: 21, 20916: 1, 217532: 8, 119230: 0, 217601: 14, 217606: 14, 283162: 8, 152103: 28, 152132: 17, 86601: 3, 86602: 18, 250448: 30, 250449: 30, 217714: 8, 217715: 8, 217716: 8, 217717: 8, 217718: 8, 217719: 8, 217720: 8, 152189: 1, 119427: 8, 119429: 8, 119432: 3, 119433: 3, 119434: 3, 184979: 5, 119443: 17, 152218: 14, 86695: 17, 283319: 8, 283320: 14, 283321: 14, 217789: 16, 152258: 8, 152259: 8, 152260: 8, 152261: 8, 119500: 1, 119501: 1, 119505: 1, 152288: 1, 185081: 0, 119556: 12, 21260: 7, 185123: 0, 86837: 4, 86838: 4, 86839: 4, 86840: 4, 86841: 4, 185161: 26, 185162: 26, 185163: 26, 119656: 9, 119671: 12, 119679: 17, 119680: 21, 185219: 24, 185229: 20, 185230: 8, 185231: 20, 185232: 3, 185233: 8, 250797: 0, 250807: 33, 250813: 20, 152519: 14, 152522: 14, 54228: 19, 54229: 19, 54231: 12, 316394: 6, 218093: 14, 250883: 0, 185363: 13, 185364: 13, 250901: 8, 250902: 8, 250903: 8, 185366: 13, 54309: 29, 152617: 4, 218153: 19, 218154: 19, 316465: 12, 54327: 12, 54328: 12, 87122: 8, 316508: 3, 316509: 3, 185440: 8, 54379: 26, 54380: 26, 54381: 26, 54382: 12, 87151: 7, 54383: 19, 87153: 7, 87154: 7, 87155: 7, 54384: 12, 54385: 26, 21617: 1, 185463: 14, 283772: 28, 283774: 28, 283775: 1, 283776: 1, 54399: 22, 152726: 12, 152727: 12, 152728: 12, 152729: 12, 152754: 5, 152755: 5, 152756: 5, 152757: 5, 152758: 5, 316597: 8, 349372: 0, 152769: 0, 152770: 0, 152771: 0, 152772: 0, 152773: 0, 152774: 16, 185544: 18, 120028: 6, 185579: 5, 185580: 8, 185581: 5, 185582: 5, 185583: 28, 218356: 8, 54552: 4, 54553: 4, 54554: 4, 54555: 4, 54556: 4, 120106: 1, 120109: 24, 87341: 1, 87342: 1, 87344: 14, 87343: 1, 185651: 1, 349501: 1, 349502: 1, 54590: 29, 152899: 22, 185671: 6, 185672: 6, 185673: 6, 54610: 1, 251219: 12, 54618: 18, 54621: 18, 185700: 17, 21863: 15, 21864: 15, 21866: 15, 120174: 29, 120175: 18, 120176: 29, 54638: 33, 54643: 7, 54645: 7, 218491: 11, 349565: 5, 120191: 10, 218500: 11, 120197: 21, 316827: 17, 316828: 8, 251297: 8, 251298: 8, 185780: 19, 185781: 19, 185782: 19, 185783: 19, 185784: 19, 251359: 0, 120287: 18, 120291: 18, 87523: 4, 21989: 1, 120292: 18, 120295: 18, 251368: 26, 120297: 7, 120298: 7, 120299: 7, 120296: 7, 120293: 18, 120294: 18, 218660: 5, 22059: 22, 22060: 22, 153133: 12, 120371: 18, 153140: 19, 120372: 18, 382550: 13, 153195: 18, 153196: 12, 153197: 18, 54897: 33, 54900: 33, 153209: 8, 153226: 12, 120459: 16, 120460: 16, 120461: 16, 87698: 8, 87699: 8, 284314: 1, 251549: 0, 251559: 5, 120487: 21, 120488: 21, 218801: 0, 87734: 4, 87735: 4, 87736: 4, 317114: 26, 87739: 4, 87738: 4, 186071: 3, 186072: 3, 186073: 3, 153312: 9, 186110: 1, 251651: 8, 120594: 16, 120596: 16, 87833: 0, 120601: 18, 120604: 8, 153374: 8, 153376: 8, 153380: 3, 22317: 13, 22325: 13, 22326: 22, 87892: 12, 120666: 0, 186205: 6, 186206: 0, 55138: 21, 55140: 21, 55144: 21, 186217: 0, 284522: 4, 55147: 21, 55158: 9, 120695: 21, 120719: 22, 87972: 3, 87973: 3, 251815: 0, 317371: 22, 317372: 22, 120784: 1, 120785: 1, 120786: 1, 317427: 16, 55294: 8, 153610: 4, 153612: 4, 120845: 29, 219154: 1, 219155: 1, 120860: 1, 120861: 16, 120862: 1, 120863: 1, 120864: 1, 251937: 8, 120865: 1, 284711: 8, 284712: 8, 55340: 18, 55341: 18, 55342: 18, 219200: 4, 219212: 5, 219213: 5, 219214: 5, 219215: 5, 219216: 5, 252005: 8, 55398: 35, 252006: 8, 120946: 12, 120947: 12, 120948: 12, 88187: 12, 55427: 16, 186505: 5, 22665: 5, 22669: 5, 88279: 8, 121047: 1, 121048: 1, 317657: 1, 219355: 0, 219356: 0, 219357: 0, 219358: 0, 219359: 0, 88310: 21, 88314: 21, 88328: 17, 153886: 3, 219428: 0, 88387: 23, 88388: 23, 88389: 23, 88432: 12, 88433: 12, 88434: 12, 88435: 12, 252294: 5, 121222: 11, 121230: 20, 121232: 20, 121233: 20, 219551: 14, 88485: 19, 55717: 18, 55718: 18, 121273: 3, 88559: 12, 88560: 12, 88561: 12, 88562: 12, 88584: 3, 88585: 3, 88586: 3, 88588: 3, 88590: 3, 285200: 6, 88607: 19, 88608: 19, 88609: 19, 88610: 19, 88611: 19, 88612: 19, 88613: 19, 88614: 19, 252463: 5, 252464: 5, 154190: 6, 121425: 20, 121426: 20, 318035: 1, 88676: 18, 154214: 18, 88679: 18, 88681: 18, 88688: 11, 88694: 18, 88696: 6, 88697: 18, 88698: 18, 55939: 17, 55940: 17, 55941: 17, 55942: 17, 154244: 4, 55944: 17, 88720: 1, 88731: 4, 88732: 4, 55980: 5, 219837: 17, 252607: 12, 121536: 18, 121535: 18, 121537: 18, 121538: 18, 121539: 18, 121540: 18, 121542: 18, 121541: 18, 88809: 18, 154352: 24, 187159: 30, 187160: 30, 187162: 8, 187163: 30, 187164: 8, 187166: 30, 187167: 8, 187168: 30, 219937: 11, 285473: 13, 154404: 11, 88888: 11, 23362: 3, 23364: 12, 56143: 12, 187260: 0, 121725: 23, 56212: 6, 56213: 10, 23520: 29, 121830: 8, 121831: 8, 121832: 8, 154625: 8, 220162: 1, 154626: 0, 154627: 8, 220165: 0, 56323: 17, 56360: 12, 89128: 2, 56362: 12, 56369: 4, 23601: 29, 23604: 29, 220235: 19, 351320: 6, 154718: 18, 23653: 27, 220265: 0, 220266: 0, 220267: 0, 220268: 0, 23667: 22, 23668: 22, 89205: 8, 89206: 3, 23670: 22, 23671: 11, 187517: 21, 154770: 0, 154771: 0, 89254: 1, 122037: 17, 285882: 5, 285883: 5, 89289: 12, 285943: 17, 187643: 17, 187644: 17, 187645: 17, 154879: 22, 154897: 24, 154899: 24, 187682: 4, 89378: 31, 187683: 4, 89379: 31, 89380: 31, 89381: 31, 89382: 31, 89424: 17, 122199: 1, 220518: 8, 253310: 22, 155012: 5, 122248: 22, 89482: 17, 286108: 8, 253361: 9, 318897: 13, 155087: 6, 122338: 10, 122339: 10, 220671: 22, 56901: 0, 56903: 0, 24135: 1, 24156: 25, 24158: 24, 253535: 5, 253536: 8, 56933: 10, 89702: 3, 24172: 12, 24173: 12, 24174: 12, 24175: 12, 24176: 12, 24177: 12, 89714: 12, 56946: 8, 24178: 25, 56948: 8, 56949: 8, 24179: 12, 56947: 8, 24180: 1, 24181: 33, 24182: 33, 24183: 33, 24184: 33, 24185: 33, 220799: 8, 24186: 33, 89721: 6, 122504: 0, 122505: 0, 24210: 33, 24211: 33, 122516: 10, 122517: 10, 24212: 33, 24213: 33, 24232: 25, 253610: 1, 253611: 1, 122541: 0, 89775: 3, 89776: 3, 57009: 4, 89778: 6, 89777: 3, 89781: 5, 220853: 24, 188090: 8, 188094: 8, 188095: 8, 155347: 1, 57059: 13, 122598: 8, 220905: 30, 220906: 30, 220907: 30, 220908: 30, 122605: 5, 122606: 5, 122607: 5, 122608: 5, 122609: 8, 122610: 5, 122611: 5, 122612: 1, 57075: 21, 220909: 30, 122617: 12, 155390: 26, 253704: 11, 24367: 25, 24368: 25, 24369: 25, 89903: 25, 24371: 25, 89904: 25, 24373: 25, 89905: 22, 24372: 22, 24370: 25, 24374: 25, 155443: 1, 286528: 13, 188261: 3, 352104: 24, 155534: 14, 24505: 12, 24506: 12, 24507: 12, 24509: 12, 188369: 4, 57309: 4, 253937: 29, 188424: 12, 57382: 4, 155713: 17, 122956: 5, 188507: 0, 221295: 1, 221296: 1, 221297: 8, 221298: 19, 221299: 1, 57478: 12, 155792: 5, 155793: 5, 123034: 19, 24731: 12, 286878: 1, 24735: 12, 90272: 23, 90273: 23, 90276: 23, 221354: 0, 90288: 3, 90289: 22, 90291: 6, 155831: 20, 24798: 31, 123128: 4, 123129: 4, 24836: 12, 24838: 3, 90422: 2, 221495: 1, 254310: 13, 156013: 12, 156014: 12, 156015: 12, 156016: 12, 221565: 0, 287102: 24, 221567: 8, 221566: 0, 24968: 1, 287121: 11, 254363: 19, 188832: 3, 254372: 1, 254373: 1, 188838: 11, 188847: 14, 25010: 12, 25011: 12, 25012: 12, 25013: 12, 25014: 12, 25015: 12, 25016: 12, 25055: 15, 25057: 15, 25058: 15, 90608: 32, 123386: 25, 221705: 30, 221707: 30, 221708: 30, 221727: 5, 221728: 14, 254502: 8, 57900: 12, 25134: 1, 90681: 17, 90682: 17, 90684: 17, 90685: 17, 90687: 17, 90700: 12, 123469: 8, 90701: 12, 90703: 12, 90704: 12, 90705: 12, 90706: 12, 90702: 12, 123468: 31, 57937: 6, 57945: 6, 90740: 1, 90765: 3, 189079: 4, 58011: 17, 58012: 17, 156318: 8, 156319: 8, 156320: 5, 58015: 17, 156322: 8, 156321: 8, 221880: 24, 221881: 24, 221882: 24, 221883: 24, 90828: 17, 123608: 16, 320216: 13, 320217: 13, 90846: 8, 25311: 4, 90850: 13, 123645: 29, 25343: 1, 25344: 1, 25345: 1, 25346: 1, 25347: 1, 156426: 10, 58143: 35, 58145: 35, 58146: 35, 58150: 35, 123686: 3, 254761: 30, 90924: 0, 189241: 12, 189242: 12, 222024: 1, 222025: 1, 222026: 1, 222027: 1, 222028: 1, 123728: 18, 123732: 18, 90975: 5, 90976: 5, 90977: 5, 90978: 5, 90979: 5, 90980: 5, 156518: 17, 156519: 0, 90988: 6, 25457: 8, 254844: 12, 25472: 5, 156556: 1, 156559: 1, 189337: 13, 189338: 13, 25512: 33, 25517: 4, 353202: 14, 353203: 14, 25533: 12, 222150: 12, 91096: 9, 91097: 9, 91098: 9, 91099: 9, 91100: 9, 91101: 9, 25569: 12, 123896: 3, 254969: 20, 123905: 1, 123906: 1, 123907: 1, 123908: 1, 123909: 1, 123910: 1, 123911: 1, 123912: 1, 222222: 18, 189482: 11, 189483: 5, 189484: 0, 189485: 5, 189486: 5, 222263: 8, 25660: 17, 25661: 17, 255038: 2, 255039: 2, 156740: 1, 320593: 25, 189525: 9, 91237: 17, 222314: 17, 189551: 10, 189552: 10, 287883: 21, 287884: 21, 386199: 0, 189596: 9, 91323: 25, 91331: 22, 156879: 14, 156880: 14, 124112: 19, 124113: 4, 156882: 14, 91362: 29, 25842: 28, 25847: 28, 58616: 12, 58617: 12, 58618: 12, 58619: 12, 91386: 0, 58621: 12, 91388: 25, 91387: 0, 255252: 0, 255253: 0, 255254: 0, 58646: 6, 222489: 0, 222490: 0, 156965: 0, 156967: 8, 124200: 3, 25911: 22, 189756: 0, 222537: 8, 58705: 12, 58706: 12, 58708: 12, 58710: 12, 58711: 4, 58712: 4, 58713: 4, 58714: 4, 58715: 4, 58716: 4, 58717: 4, 91490: 23, 222591: 13, 320897: 16, 189835: 33, 189836: 33, 189855: 22, 222656: 2, 26059: 33, 26060: 33, 26061: 33, 26062: 33, 26063: 33, 189904: 19, 288209: 14, 320986: 0, 222694: 5, 58902: 18, 58903: 18, 58904: 18, 321057: 0, 321058: 0, 189991: 0, 222775: 1, 91708: 32, 91709: 32, 91710: 32, 190015: 19, 157256: 0, 58955: 3, 58958: 3, 58960: 3, 58961: 3, 255571: 0, 124503: 26, 26212: 21, 26213: 12, 26214: 12, 26215: 12, 26216: 12, 91754: 11, 91755: 11, 190082: 22, 91779: 12, 59020: 12, 59021: 12, 59022: 12, 124575: 1, 157344: 9, 255652: 14, 321239: 13, 222940: 16, 59117: 0, 59118: 0, 91886: 5, 91888: 9, 91887: 5, 59136: 1, 124686: 12, 59155: 6, 222996: 8, 124694: 12, 288539: 21, 255774: 28, 59167: 22, 59190: 22, 223041: 5, 124786: 19, 223100: 0, 190353: 5, 26520: 5, 26521: 3, 26523: 6, 190365: 28, 190366: 28, 190367: 28, 190368: 28, 321441: 5, 190369: 28, 190370: 28, 190371: 28, 26533: 12, 26534: 12, 124862: 1, 124863: 1, 124864: 1, 124865: 1, 124866: 1, 124867: 1, 92111: 6, 26588: 12, 26589: 12, 124894: 14, 124895: 14, 124896: 5, 124897: 14, 124898: 14, 26590: 12, 26591: 12, 26592: 12, 223209: 28, 223210: 28, 223212: 28, 223213: 28, 157723: 22, 190493: 21, 157729: 4, 124970: 1, 157768: 1, 59470: 29, 125041: 16, 125042: 16, 125043: 16, 59585: 6, 223452: 8, 157946: 17, 223503: 2, 190736: 8, 223504: 2, 59681: 22, 157990: 14, 157991: 14, 157992: 14, 157993: 8, 157994: 5, 157995: 5, 157996: 5, 157997: 5, 157998: 5, 157999: 5, 158000: 5, 158001: 5, 223529: 17, 190771: 5, 190772: 5, 92469: 24, 190775: 24, 190801: 12, 190820: 17, 190821: 17, 190822: 17, 190823: 17, 190824: 17, 92525: 7, 59783: 18, 223631: 3, 223632: 8, 125334: 8, 256458: 5, 125388: 12, 125389: 12, 27087: 29, 256480: 5, 125416: 3, 27114: 19, 27120: 19, 125436: 16, 223745: 19, 190990: 14, 92688: 25, 190993: 8, 92690: 25, 92689: 25, 92693: 25, 92705: 31, 191014: 0, 27199: 1, 27200: 1, 27210: 0, 92754: 19, 256597: 14, 158303: 11, 158304: 11, 158305: 11, 158306: 11, 125558: 21, 158333: 6, 158334: 6, 158335: 6, 158336: 6, 223873: 8, 158337: 6, 158338: 6, 60031: 18, 158386: 4, 158388: 4, 158395: 8, 158396: 8, 158397: 8, 125638: 12, 125639: 12, 125640: 12, 191182: 8, 125647: 22, 125648: 22, 125649: 22, 125646: 22, 125650: 5, 256732: 1, 256733: 1, 322287: 9, 322288: 9, 191221: 22, 191253: 1, 27417: 0, 125736: 0, 125737: 8, 256811: 24, 256817: 16, 256818: 8, 158513: 18, 158514: 18, 158515: 18, 158516: 18, 27489: 12, 27492: 12, 93037: 12, 93038: 12, 158584: 4, 93051: 8, 93052: 8, 93055: 8, 27521: 19, 191383: 18, 158616: 14, 158617: 14, 125848: 19, 191390: 0, 125880: 22, 93113: 2, 93121: 6, 60356: 11, 191436: 11, 224204: 12, 322523: 24, 125919: 12, 289760: 0, 125920: 12, 125921: 12, 125922: 12, 93167: 1, 125936: 30, 224242: 5, 191502: 0, 191503: 0, 191504: 0, 191505: 0, 60436: 18, 60437: 3, 322595: 5, 158766: 1, 224321: 17, 158818: 4, 60525: 5, 27771: 1, 257182: 12, 191653: 4, 191654: 4, 191655: 4, 126131: 5, 191690: 16, 257238: 8, 257239: 5, 93416: 7, 126189: 25, 257262: 1, 126191: 25, 257268: 16, 257280: 6, 60683: 26, 126227: 18, 126228: 18, 27928: 12, 224543: 32, 191779: 0, 257323: 8, 159021: 13, 159022: 13, 159023: 13, 159024: 13, 159025: 13, 191796: 2, 191797: 2, 191798: 2, 191799: 2, 60725: 15, 60735: 12, 60736: 12, 60737: 12, 60738: 12, 60739: 12, 60740: 12, 60741: 12, 159120: 17, 159121: 17, 191890: 1, 126359: 18, 60829: 0, 60834: 0, 191922: 21, 159167: 14, 191951: 4, 93657: 5, 93661: 12, 93662: 12, 93663: 12, 93664: 12, 93665: 12, 93666: 22, 159203: 20, 126451: 1, 28154: 29, 28155: 29, 28156: 12, 28157: 29, 28158: 29, 126464: 12, 224768: 12, 126466: 12, 126467: 12, 126473: 8, 192039: 3, 192040: 3, 192041: 3, 126519: 1, 126520: 1, 126521: 1, 93762: 12, 323144: 14, 159319: 14, 159320: 12, 159321: 12, 159322: 12, 159323: 12, 159324: 12, 159325: 12, 224866: 8, 159341: 12, 224881: 0, 28273: 1, 257653: 8, 257654: 8, 192130: 5, 126599: 12, 126600: 12, 126601: 12, 126602: 12, 126603: 12, 126604: 12, 126605: 12, 192148: 1, 61082: 2, 257692: 0, 159397: 19, 159398: 22, 159399: 19, 290472: 16, 192177: 14, 192178: 14, 192179: 14, 192180: 14, 61117: 12, 126678: 3, 126680: 3, 93918: 4, 159456: 5, 159457: 0, 159458: 0, 356065: 30, 159459: 32, 159460: 32, 93934: 21, 225016: 1, 225017: 1, 61201: 21, 126738: 31, 61202: 12, 225047: 8, 192287: 8, 192288: 8, 28451: 11, 159537: 18, 159538: 18, 159539: 18, 159540: 18, 159541: 10, 323381: 18, 323382: 18, 323383: 18, 290610: 18, 192327: 11, 192328: 11, 323410: 16, 126835: 14, 28533: 12, 28534: 12, 28535: 12, 323453: 29, 323454: 4, 28558: 15, 225167: 12, 28560: 12, 28561: 12, 28559: 12, 28563: 12, 28562: 26, 28564: 25, 159640: 6, 257958: 12, 126895: 8, 126896: 8, 126897: 8, 126898: 5, 192439: 12, 192440: 4, 290751: 8, 290752: 8, 290753: 8, 61382: 4, 61383: 4, 61384: 4, 61393: 22, 94181: 17, 225272: 11, 94204: 3, 94205: 3, 61469: 1, 127026: 4, 127028: 4, 127030: 4, 127031: 4, 94269: 3, 61518: 2, 61519: 25, 61528: 23, 61529: 23, 61530: 23, 61531: 23, 61532: 23, 61533: 23, 61534: 23, 61536: 23, 61537: 23, 159851: 4, 225404: 30, 225405: 5, 61568: 33, 127108: 14, 127109: 14, 127110: 14, 61615: 23, 192698: 7, 127165: 5, 192702: 14, 28870: 5, 94413: 33, 61658: 3, 225512: 7, 94448: 34, 192771: 6, 192772: 6, 192773: 6, 94505: 4, 94506: 4, 94507: 4, 61743: 32, 61744: 32, 127283: 26, 127284: 26, 127285: 26, 127286: 26, 323891: 20, 323892: 14, 127288: 18, 127287: 26, 192829: 3, 192830: 3, 28996: 1, 192844: 5, 61777: 18, 192870: 1, 192871: 1, 192872: 1, 192873: 1, 192874: 1, 192893: 8, 127361: 5, 127362: 5, 127363: 5, 127364: 5, 29060: 29, 127366: 5, 29062: 29, 29064: 29, 29065: 12, 29063: 29, 29061: 29, 258456: 1, 258457: 1, 258459: 1, 94620: 22, 94621: 22, 94622: 22, 291240: 13, 94632: 18, 61873: 12, 61874: 12, 94647: 2, 94648: 2, 94651: 2, 94652: 23, 94653: 23, 29127: 31, 29128: 31, 29129: 31, 192970: 12, 192971: 12, 192972: 12, 258509: 5, 192973: 12, 192974: 12, 192975: 12, 192976: 12, 127451: 2, 127452: 2, 127453: 2, 127454: 2, 324062: 5, 324064: 0, 29153: 1, 61920: 25, 127472: 9, 127473: 9, 127474: 9, 127475: 9, 61957: 18, 61962: 18, 127503: 18, 94743: 24, 94759: 3, 61996: 18, 127550: 8, 127551: 8, 127552: 8, 94789: 0, 62028: 22, 62029: 22, 62030: 22, 62031: 22, 62032: 22, 62033: 22, 62034: 22, 62035: 22, 62036: 22, 160343: 16, 94810: 8, 225883: 24, 94812: 6, 225884: 24, 225885: 24, 225886: 24, 225887: 24, 225888: 24, 62059: 22, 127601: 16, 127602: 16, 127603: 16, 127604: 16, 127605: 16, 127606: 16, 127607: 16, 193149: 0, 193150: 0, 193151: 20, 193152: 0, 160390: 3, 160391: 3, 291464: 8, 160392: 3, 62100: 7, 127640: 14, 94885: 2, 160423: 22, 127679: 18, 94915: 12, 258782: 8, 258783: 1, 29421: 28, 94970: 22, 94971: 22, 127746: 5, 127747: 5, 127748: 5, 127749: 5, 127750: 5, 127751: 8, 127752: 5, 127753: 5, 127754: 5, 62216: 4, 62218: 4, 62215: 4, 62217: 4, 62238: 0, 226082: 30, 62259: 29, 95044: 12, 160584: 8, 62288: 19, 29520: 12, 160637: 8, 357247: 8, 95112: 10, 127881: 0, 95114: 10, 127882: 0, 127883: 0, 127884: 0, 127885: 0, 127886: 0, 127887: 0, 127888: 0, 95118: 10, 29643: 12, 29644: 2, 160753: 14, 160757: 10, 324605: 14, 324606: 14, 324607: 14, 29700: 12, 29705: 12, 95305: 0, 95306: 0, 226380: 1, 62544: 12, 29777: 1, 160863: 18, 29793: 1, 193648: 7, 193649: 7, 95351: 0, 193659: 1, 193660: 1, 62593: 18, 128130: 20, 62613: 24, 62614: 4, 128160: 8, 128173: 17, 128174: 17, 95406: 8, 128196: 5, 160965: 24, 62665: 0, 292049: 24, 95446: 22, 128227: 6, 128228: 6, 128229: 6, 128240: 18, 128241: 18, 128242: 18, 128243: 18, 128244: 18, 128245: 18, 128246: 18, 128247: 18, 128248: 18, 95492: 21, 95493: 21, 95496: 18, 95509: 3, 95520: 12, 95523: 12, 357690: 0, 357691: 0, 62786: 4, 128325: 22, 193869: 20, 259407: 33, 259408: 33, 259409: 33, 259410: 33, 259411: 33, 259412: 33, 259413: 33, 259414: 33, 62810: 18, 62811: 18, 161116: 0, 161120: 16, 62829: 5, 324983: 1, 324984: 1, 128380: 21, 128381: 21, 128383: 21, 161166: 27, 193935: 10, 226704: 1, 161167: 27, 62878: 5, 95745: 2, 62983: 32, 62985: 32, 62987: 32, 325134: 1, 325135: 1, 128558: 9, 30258: 22, 128563: 8, 226867: 11, 226869: 11, 30262: 12, 226868: 11, 30259: 22, 128574: 4, 128575: 4, 128577: 4, 30286: 26, 128594: 35, 63087: 31, 63088: 31, 63089: 31, 63090: 31, 194201: 4, 259738: 18, 259739: 18, 128684: 31, 161458: 17, 161459: 17, 161460: 17, 161461: 17, 128692: 19, 161463: 17, 128693: 19, 30393: 29, 128694: 19, 128695: 19, 128696: 19, 128697: 19, 128698: 19, 161462: 17, 30396: 29, 95949: 12, 161490: 11, 161491: 11, 128723: 18, 161494: 11, 161496: 16, 161499: 16, 227037: 17, 194321: 9, 194323: 9, 161563: 14, 128814: 18, 128815: 6, 128816: 6, 128817: 6, 63288: 1, 259899: 8, 194365: 14, 161603: 0, 390991: 8, 194387: 8, 259928: 1, 96095: 16, 96111: 21, 96112: 21, 161657: 0, 194440: 7, 194441: 7, 194442: 14, 128932: 18, 96179: 22, 30653: 33, 30654: 33, 194495: 10, 194496: 10, 194498: 0, 194500: 0, 194501: 0, 63448: 31, 128985: 12, 30700: 4, 30708: 14, 63510: 22, 63531: 12, 161845: 26, 161846: 26, 161847: 26, 161848: 26, 161849: 26, 161850: 26, 161851: 26, 260153: 8, 63560: 2, 260177: 9, 30809: 18, 30811: 3, 227430: 0, 129133: 1, 63598: 11, 129134: 1, 129136: 1, 325747: 21, 325748: 21, 63631: 8, 63634: 8, 63635: 8, 63661: 17, 63662: 17, 129224: 8, 129225: 16, 129231: 14, 129241: 9, 129242: 9, 129243: 9, 227545: 16, 129245: 9, 129246: 9, 227549: 20, 129248: 9, 96495: 4, 194801: 8, 194802: 8, 96499: 4, 325895: 5, 293151: 1, 293152: 1, 63779: 6, 63781: 6, 96560: 18, 227633: 4, 227634: 14, 162099: 12, 194870: 5, 31031: 1, 293183: 4, 31039: 18, 96591: 0, 260436: 5, 260437: 5, 63837: 3, 260455: 5, 260456: 5, 260457: 5, 227699: 11, 63860: 3, 63861: 3, 63862: 3, 63863: 3, 63864: 3, 63867: 3, 63868: 3, 96637: 8, 162182: 0, 162204: 12, 96695: 20, 260537: 8, 260538: 8, 227792: 18, 96727: 18, 31236: 5, 293389: 5, 326158: 1, 96797: 1, 96798: 1, 162335: 5, 96800: 1, 96802: 1, 96803: 1, 260658: 16, 31284: 20, 64073: 12, 64074: 12, 31308: 18, 31317: 4, 31320: 21, 64109: 0, 64110: 0, 64111: 0, 64112: 0, 64113: 0, 64114: 0, 64115: 0, 64116: 0, 64117: 0, 64118: 0, 227957: 13, 227966: 11, 227967: 11, 227968: 11, 96933: 3, 96934: 3, 96935: 3, 96936: 3, 293570: 24, 64210: 1, 195282: 1, 195283: 1, 195284: 1, 195286: 1, 195287: 1, 195292: 1, 195293: 1, 195305: 17, 31478: 26, 64248: 29, 195345: 12, 326434: 16, 31537: 5, 162610: 18, 195390: 24, 31552: 0, 31553: 15, 31554: 15, 31555: 15, 64329: 0, 195403: 9, 64333: 0, 129880: 0, 129881: 0, 228186: 1, 162658: 5, 129897: 31, 129899: 31, 64379: 6, 260993: 9, 260995: 9, 260996: 9, 260997: 9, 195467: 20, 195468: 20, 195480: 8, 228261: 34, 228262: 34, 228263: 34, 228299: 17, 129995: 8, 129999: 8, 162768: 0, 162769: 0, 130013: 4, 64484: 18, 228330: 14, 130035: 32, 130036: 32, 130053: 1, 162826: 0, 130069: 22, 130070: 22, 162890: 1, 162891: 1, 130134: 17, 293976: 24, 64649: 12, 228500: 20, 97428: 6, 97447: 27, 130225: 32, 162999: 19, 163000: 19, 163001: 19, 195768: 8, 195770: 8, 261315: 5, 163020: 4, 130281: 19, 97520: 3, 130290: 17, 97523: 7, 228594: 22, 228595: 22, 228596: 22, 97524: 7, 130296: 17, 64762: 11, 64764: 11, 32008: 6, 97546: 17, 32011: 6, 163084: 8, 97551: 17, 64799: 23, 163118: 5, 64814: 12, 64816: 12, 163124: 31, 163125: 5, 163126: 5, 163127: 31, 163135: 12, 163136: 12, 359744: 13, 359745: 13, 163151: 29, 64851: 2, 64864: 2, 32097: 4, 64865: 2, 64866: 2, 64867: 2, 32096: 4, 97634: 4, 130412: 18, 130413: 18, 195953: 14, 97656: 3, 294265: 9, 294266: 9, 294267: 9, 64893: 22, 32125: 6, 195976: 13, 195979: 5, 32223: 31, 130548: 20, 130549: 17, 130551: 17, 130552: 17, 261629: 1, 261630: 1, 261631: 1, 97799: 32, 130568: 0, 32282: 18, 228899: 10, 228900: 10, 228901: 10, 228902: 18, 228903: 10, 228912: 0, 228913: 0, 228914: 0, 228915: 0, 228916: 0, 130614: 22, 228918: 0, 228923: 5, 196156: 5, 196157: 5, 196155: 0, 32320: 8, 65095: 8, 65096: 8, 65097: 8, 65098: 8, 65099: 8, 65100: 8, 65101: 8, 65102: 8, 196181: 8, 32357: 12, 196202: 18, 196203: 12, 196204: 18, 65135: 32, 65136: 32, 228980: 16, 228981: 16, 228982: 16, 65143: 22, 228983: 16, 228985: 16, 228986: 20, 228984: 16, 65148: 22, 294528: 25, 261764: 5, 261765: 5, 130703: 8, 229017: 0, 32444: 15, 261826: 18, 196291: 4, 32456: 8, 32457: 8, 32458: 8, 32459: 8, 32460: 8, 32461: 8, 32462: 8, 229071: 19, 32463: 8, 229073: 19, 229072: 19, 32464: 8, 130824: 35, 229128: 8, 130831: 19, 32528: 12, 196371: 0, 196372: 14, 32540: 22, 130902: 0, 65367: 5, 65371: 1, 65372: 1, 229216: 35, 32613: 2, 32614: 2, 130930: 18, 196478: 5, 196479: 5, 196480: 5, 196481: 5, 229254: 1, 32656: 25, 32657: 25, 32658: 25, 32659: 25, 32660: 25, 32661: 25, 32662: 12, 32663: 25, 163738: 6, 163739: 6, 163740: 6, 163741: 6, 163752: 32, 163753: 32, 294832: 10, 196548: 5, 98249: 21, 98250: 21, 98251: 21, 98252: 21, 98253: 21, 98254: 21, 65482: 18, 294860: 1, 98257: 21, 294874: 5, 32744: 18}\n"
     ]
    }
   ],
   "source": [
    "print(partition)"
   ]
  },
  {
   "cell_type": "code",
   "execution_count": 29,
   "metadata": {
    "scrolled": true
   },
   "outputs": [
    {
     "data": {
      "text/plain": [
       "<function matplotlib.pyplot.show(*args, **kw)>"
      ]
     },
     "execution_count": 29,
     "metadata": {},
     "output_type": "execute_result"
    },
    {
     "data": {
      "image/png": "[encoded data removed]",
      "text/plain": [
       "<Figure size 432x288 with 1 Axes>"
      ]
     },
     "metadata": {
      "needs_background": "light"
     },
     "output_type": "display_data"
    }
   ],
   "source": [
    "community_count = Counter(partition.values())\n",
    "communities = []\n",
    "counts = []\n",
    "for key,value in community_count.items():\n",
    "    communities.append(key)\n",
    "    counts.append(value)\n",
    "plt.bar(communities, counts)\n",
    "plt.show"
   ]
  },
  {
   "cell_type": "code",
   "execution_count": 30,
   "metadata": {},
   "outputs": [],
   "source": [
    "community_constant = 0.2\n",
    "node_data = {}\n",
    "\n",
    "def sameComm(node1, node2, partition):\n",
    "    return partition[node1] == partition[node2]\n",
    "    \n",
    "for node_pair in list(comb):\n",
    "    node_data[(node_pair[0], node_pair[1])] = []\n",
    "    score = 0\n",
    "    A, B = node_pair\n",
    "    neighborsA = set(small_subgraph.neighbors(A))\n",
    "    neighborsB = set(small_subgraph.neighbors(B))\n",
    "    common_count = len(neighborsA.intersection(neighborsB))\n",
    "    common_list = neighborsA.intersection(neighborsB)\n",
    "    total_count = len(neighborsA.union(neighborsB))\n",
    "    for z in list(common_list):\n",
    "        score = score + 1/small_subgraph.degree(z)\n",
    "    if(sameComm(A, B, partition)):\n",
    "#       adding constant to pref index\n",
    "        score = score + community_constant\n",
    "    node_data[A, B].append(score)\n",
    "    if total_count == 0:\n",
    "        node_data[A, B].append(-1)\n",
    "    else:\n",
    "        jacc_index = common_count / total_count\n",
    "        if(sameComm(A, B, partition)):\n",
    "            jacc_index = jacc_index + community_constant\n",
    "        node_data[A, B].append(jacc_index)\n",
    "#       first value is preferential attachment, second value is jaccard index\n"
   ]
  },
  {
   "cell_type": "code",
   "execution_count": 31,
   "metadata": {},
   "outputs": [],
   "source": [
    "pref_indexes = []\n",
    "jacc_indexes = []\n",
    "for key,items in node_data.items():\n",
    "    if(items[0] > 0):\n",
    "        pref_indexes.append(items[0])\n",
    "    if(items[1] > 0):\n",
    "        jacc_indexes.append(items[1])"
   ]
  },
  {
   "cell_type": "code",
   "execution_count": 32,
   "metadata": {},
   "outputs": [
    {
     "data": {
      "image/png": "[encoded data removed]",
      "text/plain": [
       "<Figure size 432x288 with 1 Axes>"
      ]
     },
     "metadata": {
      "needs_background": "light"
     },
     "output_type": "display_data"
    }
   ],
   "source": [
    "plt.hist(pref_indexes, 15, color=\"red\")\n",
    "plt.xlabel(\"Preferential Attachment Index\")\n",
    "plt.ylabel(\"Frequency\")\n",
    "plt.title(\"Preferential Attachment with Community Implementation\")\n",
    "plt.show\n",
    "plt.savefig(\"preferential_community\")\n"
   ]
  },
  {
   "cell_type": "code",
   "execution_count": 33,
   "metadata": {},
   "outputs": [
    {
     "data": {
      "image/png": "[encoded data removed]",
      "text/plain": [
       "<Figure size 432x288 with 1 Axes>"
      ]
     },
     "metadata": {
      "needs_background": "light"
     },
     "output_type": "display_data"
    }
   ],
   "source": [
    "plt.hist(jacc_indexes, 15, color=\"red\")\n",
    "plt.xlabel(\"Jaccard Index\")\n",
    "plt.ylabel(\"Frequency\")\n",
    "plt.title(\"Jaccard Index Frequencies\")\n",
    "plt.show\n",
    "plt.savefig(\"jaccard_community\")\n",
    "# a lot of nodes share the same communities, making them likelier to be closer together on the jacc index"
   ]
  },
  {
   "cell_type": "markdown",
   "metadata": {},
   "source": [
    "## ML Analysis"
   ]
  },
  {
   "cell_type": "markdown",
   "metadata": {},
   "source": [
    "the goal is to best reccomend products based on adapted distance metrics while also assessing the network with regular distance metrics."
   ]
  },
  {
   "cell_type": "code",
   "execution_count": 34,
   "metadata": {},
   "outputs": [
    {
     "data": {
      "text/plain": [
       "37889"
      ]
     },
     "execution_count": 34,
     "metadata": {},
     "output_type": "execute_result"
    }
   ],
   "source": [
    "len(subgraph.edges)"
   ]
  },
  {
   "cell_type": "code",
   "execution_count": 35,
   "metadata": {},
   "outputs": [],
   "source": [
    "from sklearn.model_selection import train_test_split\n",
    "\n",
    "X_train, X_test = train_test_split(list(subgraph.edges()), test_size=0.2, random_state=RANDOM_SEED)"
   ]
  },
  {
   "cell_type": "code",
   "execution_count": 36,
   "metadata": {},
   "outputs": [
    {
     "name": "stdout",
     "output_type": "stream",
     "text": [
      "30311 7578\n"
     ]
    }
   ],
   "source": [
    "print(len(X_train), len(X_test))"
   ]
  },
  {
   "cell_type": "code",
   "execution_count": 37,
   "metadata": {},
   "outputs": [],
   "source": [
    "X_subgraph = subgraph.edge_subgraph(list(subgraph.edges()))"
   ]
  },
  {
   "cell_type": "code",
   "execution_count": null,
   "metadata": {},
   "outputs": [],
   "source": [
    "node_data_train_comm = {}\n",
    "node_data_train = {}\n",
    "\n",
    "for node_pair in list(comb):\n",
    "    node_data_train_comm[(node_pair[0], node_pair[1])] = []\n",
    "    node_data_train[(node_pair[0], node_pair[1])] = []\n",
    "\n",
    "    score = 0\n",
    "    A, B = node_pair\n",
    "    neighborsA = set(X_subgraph.neighbors(A))\n",
    "    neighborsB = set(X_subgraph.neighbors(B))\n",
    "    common_count = len(neighborsA.intersection(neighborsB))\n",
    "    common_list = neighborsA.intersection(neighborsB)\n",
    "    total_count = len(neighborsA.union(neighborsB))\n",
    "    for z in list(common_list):\n",
    "        score = score + 1/X_subgraph.degree(z)\n",
    "    node_data_train[A, B].append(score)\n",
    "    if total_count == 0:\n",
    "        node_data_train[A, B].append(-1)\n",
    "    else:\n",
    "        node_data_train[A, B].append(common_count/total_count)  \n",
    "#       first value is preferential attachment, second value is jaccard index\n"
   ]
  },
  {
   "cell_type": "code",
   "execution_count": null,
   "metadata": {},
   "outputs": [],
   "source": [
    "pref_indexes_train = []\n",
    "jacc_indexes_train = []\n",
    "for key,items in node_data_train.items():\n",
    "    if(items[0] > 0):\n",
    "        pref_indexes_train.append(items[0])\n",
    "    if(items[1] > 0):\n",
    "        jacc_indexes_train.append(items[1])"
   ]
  },
  {
   "cell_type": "code",
   "execution_count": null,
   "metadata": {},
   "outputs": [],
   "source": [
    "plt.hist(pref_indexes_train, 15, color=\"blue\")\n",
    "plt.xlabel(\"Preferential Attachment\")\n",
    "plt.ylabel(\"Frequency\")\n",
    "plt.title(\"Preferential Attachment Frequencies on Training Subgraph\")\n",
    "plt.show\n",
    "plt.savefig(\"pref_train\")\n"
   ]
  },
  {
   "cell_type": "code",
   "execution_count": null,
   "metadata": {},
   "outputs": [],
   "source": [
    "plt.hist(jacc_indexes_train, 15, color=\"red\")\n",
    "plt.xlabel(\"Jaccard Index\")\n",
    "plt.ylabel(\"Frequency\")\n",
    "plt.title(\"Jaccard Index Frequencies on Training Subgraph\")\n",
    "plt.show\n",
    "plt.savefig(\"jaccard_train\")\n"
   ]
  },
  {
   "cell_type": "code",
   "execution_count": null,
   "metadata": {},
   "outputs": [],
   "source": [
    "sorted_elements_trained = sorted(node_data_train.keys(), key=lambda single_key: node_data_train[single_key][1], reverse=True)"
   ]
  },
  {
   "cell_type": "code",
   "execution_count": null,
   "metadata": {},
   "outputs": [],
   "source": [
    "top_trained_jaccard = sorted_elements_trained[:int(0.1*len(sorted_elements_trained))]"
   ]
  },
  {
   "cell_type": "code",
   "execution_count": null,
   "metadata": {},
   "outputs": [],
   "source": []
  },
  {
   "cell_type": "code",
   "execution_count": null,
   "metadata": {},
   "outputs": [],
   "source": [
    "partition = community_louvain.best_partition(X_subgraph.to_undirected())\n",
    "community_count = Counter(partition.values())\n",
    "communities = []\n",
    "counts = []\n",
    "for key,value in community_count.items():\n",
    "    communities.append(key)\n",
    "    counts.append(value)\n",
    "plt.bar(communities, counts)\n",
    "plt.show"
   ]
  },
  {
   "cell_type": "code",
   "execution_count": null,
   "metadata": {},
   "outputs": [],
   "source": [
    "community_constant = 0.2\n",
    "node_data_train_comm = {}\n",
    "\n",
    "def sameComm(node1, node2, partition):\n",
    "    return partition[node1] == partition[node2]\n",
    "    \n",
    "for node_pair in list(comb):\n",
    "    node_data_train_comm[(node_pair[0], node_pair[1])] = []\n",
    "    score = 0\n",
    "    A, B = node_pair\n",
    "    neighborsA = set(X_subgraph.neighbors(A))\n",
    "    neighborsB = set(X_subgraph.neighbors(B))\n",
    "    common_count = len(neighborsA.intersection(neighborsB))\n",
    "    common_list = neighborsA.intersection(neighborsB)\n",
    "    total_count = len(neighborsA.union(neighborsB))\n",
    "    for z in list(common_list):\n",
    "        score = score + 1/X_subgraph.degree(z)\n",
    "    if(sameComm(A, B, partition)):\n",
    "#       adding constant to pref index\n",
    "        score = score + community_constant\n",
    "    node_data_train_comm[A, B].append(score)\n",
    "    if total_count == 0:\n",
    "        node_data_train_comm[A, B].append(-1)\n",
    "    else:\n",
    "        jacc_index = common_count / total_count\n",
    "        if(sameComm(A, B, partition)):\n",
    "            jacc_index = jacc_index + community_constant\n",
    "        node_data_train_comm[A, B].append(jacc_index)\n",
    "#       first value is preferential attachment, second value is jaccard index\n",
    "\n"
   ]
  },
  {
   "cell_type": "code",
   "execution_count": null,
   "metadata": {},
   "outputs": [],
   "source": [
    "pref_indexes_train_comm = []\n",
    "jacc_indexes_train_comm = []\n",
    "for key,items in node_data_train_comm.items():\n",
    "    if(items[0] > 0):\n",
    "        pref_indexes_train_comm.append(items[0])\n",
    "    if(items[1] > 0):\n",
    "        jacc_indexes_train_comm.append(items[1])"
   ]
  },
  {
   "cell_type": "code",
   "execution_count": null,
   "metadata": {},
   "outputs": [],
   "source": [
    "plt.hist(pref_indexes_train, 15, color=\"blue\")\n",
    "plt.xlabel(\"Preferential Attachment\")\n",
    "plt.ylabel(\"Frequency\")\n",
    "plt.title(\"Preferential Attachment Frequencies on Training Subgraph WITH Communities\")\n",
    "plt.show\n",
    "plt.savefig(\"pref_train_COMM\")\n",
    "plt.hist(jacc_indexes_train, 15, color=\"red\")\n",
    "plt.xlabel(\"Jaccard Index\")\n",
    "plt.ylabel(\"Frequency\")\n",
    "plt.title(\"Jaccard Index Frequencies on Training Subgraph WITH Communities\")\n",
    "plt.show\n",
    "plt.savefig(\"jaccard_train_COMM\")"
   ]
  },
  {
   "cell_type": "code",
   "execution_count": null,
   "metadata": {},
   "outputs": [],
   "source": []
  },
  {
   "cell_type": "code",
   "execution_count": null,
   "metadata": {},
   "outputs": [],
   "source": []
  },
  {
   "cell_type": "code",
   "execution_count": null,
   "metadata": {},
   "outputs": [],
   "source": []
  },
  {
   "cell_type": "code",
   "execution_count": null,
   "metadata": {},
   "outputs": [],
   "source": []
  },
  {
   "cell_type": "code",
   "execution_count": null,
   "metadata": {},
   "outputs": [],
   "source": []
  },
  {
   "cell_type": "code",
   "execution_count": null,
   "metadata": {},
   "outputs": [],
   "source": []
  },
  {
   "cell_type": "code",
   "execution_count": null,
   "metadata": {},
   "outputs": [],
   "source": []
  },
  {
   "cell_type": "code",
   "execution_count": null,
   "metadata": {},
   "outputs": [],
   "source": []
  },
  {
   "cell_type": "code",
   "execution_count": null,
   "metadata": {},
   "outputs": [],
   "source": []
  },
  {
   "cell_type": "code",
   "execution_count": null,
   "metadata": {},
   "outputs": [],
   "source": []
  }
 ],
 "metadata": {
  "kernelspec": {
   "display_name": "Python 3",
   "language": "python",
   "name": "python3"
  },
  "language_info": {
   "codemirror_mode": {
    "name": "ipython",
    "version": 3
   },
   "file_extension": ".py",
   "mimetype": "text/x-python",
   "name": "python",
   "nbconvert_exporter": "python",
   "pygments_lexer": "ipython3",
   "version": "3.7.6"
  }
 },
 "nbformat": 4,
 "nbformat_minor": 2
}
